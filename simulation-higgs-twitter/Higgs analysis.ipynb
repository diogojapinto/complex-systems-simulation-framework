{
 "cells": [
  {
   "cell_type": "markdown",
   "metadata": {},
   "source": [
    "# Exploratory data analysis\n",
    "[dataset](http://snap.stanford.edu/data/higgs-activity_time.txt.gz)"
   ]
  },
  {
   "cell_type": "markdown",
   "metadata": {},
   "source": [
    "## Import the needed libraries\n",
    " * **numpy**: widely used scientific computing package\n",
    " * **pandas**: library to deal with data frames\n",
    " * **datetime**: provides tools to deal with dates and timestamps\n",
    " * **seaborn**: visualization library on top of matplotlib"
   ]
  },
  {
   "cell_type": "code",
   "execution_count": 2,
   "metadata": {
    "collapsed": true
   },
   "outputs": [],
   "source": [
    "import numpy as np\n",
    "import pandas as pd\n",
    "import datetime\n",
    "import seaborn as sns\n",
    "import time\n",
    "import os\n",
    "from operator import itemgetter\n",
    "\n",
    "% matplotlib inline"
   ]
  },
  {
   "cell_type": "markdown",
   "metadata": {},
   "source": [
    "## Load the dataset"
   ]
  },
  {
   "cell_type": "code",
   "execution_count": 3,
   "metadata": {
    "collapsed": true
   },
   "outputs": [],
   "source": [
    "higgs_df = pd.read_csv('higgs-activity_time.txt', \n",
    "                       delim_whitespace=True, \n",
    "                       header=None, \n",
    "                       names=['user_a', \n",
    "                              'user_b', \n",
    "                              'timestamp', \n",
    "                              'interaction'])"
   ]
  },
  {
   "cell_type": "markdown",
   "metadata": {},
   "source": [
    "Create column with datetime derived from the timestamp:"
   ]
  },
  {
   "cell_type": "code",
   "execution_count": 4,
   "metadata": {
    "collapsed": false
   },
   "outputs": [],
   "source": [
    "higgs_df['datetime'] = pd.to_datetime(higgs_df['timestamp'], unit='s')"
   ]
  },
  {
   "cell_type": "code",
   "execution_count": 5,
   "metadata": {
    "collapsed": false
   },
   "outputs": [
    {
     "data": {
      "text/plain": [
       "(563069, 5)"
      ]
     },
     "execution_count": 5,
     "metadata": {},
     "output_type": "execute_result"
    }
   ],
   "source": [
    "higgs_df.shape"
   ]
  },
  {
   "cell_type": "markdown",
   "metadata": {},
   "source": [
    "So we have a total of 563069 interactions.\n",
    "Lets see how this count is distributed by interaction type:\n",
    "\n",
    "Note:\n",
    " * **MT**: Mention\n",
    " * **RE**: Reply\n",
    " * **RT**: Retweet (forward)"
   ]
  },
  {
   "cell_type": "code",
   "execution_count": 6,
   "metadata": {
    "collapsed": false
   },
   "outputs": [
    {
     "data": {
      "text/plain": [
       "<matplotlib.axes._subplots.AxesSubplot at 0x7f67c28b8b70>"
      ]
     },
     "execution_count": 6,
     "metadata": {},
     "output_type": "execute_result"
    },
    {
     "data": {
      "image/png": "[encoded data removed]",
      "text/plain": [
       "<matplotlib.figure.Figure at 0x7f67c28a15f8>"
      ]
     },
     "metadata": {},
     "output_type": "display_data"
    }
   ],
   "source": [
    "sns.countplot(data=higgs_df, x='interaction')"
   ]
  },
  {
   "cell_type": "markdown",
   "metadata": {},
   "source": [
    "## Visualize the distribution of tweets through time"
   ]
  },
  {
   "cell_type": "code",
   "execution_count": 7,
   "metadata": {
    "collapsed": false
   },
   "outputs": [
    {
     "data": {
      "text/plain": [
       "Timestamp('2012-07-01 00:02:52')"
      ]
     },
     "execution_count": 7,
     "metadata": {},
     "output_type": "execute_result"
    }
   ],
   "source": [
    "timestamp_min = higgs_df['datetime'].min()\n",
    "timestamp_min"
   ]
  },
  {
   "cell_type": "code",
   "execution_count": 8,
   "metadata": {
    "collapsed": false
   },
   "outputs": [
    {
     "data": {
      "text/plain": [
       "Timestamp('2012-07-07 23:59:53')"
      ]
     },
     "execution_count": 8,
     "metadata": {},
     "output_type": "execute_result"
    }
   ],
   "source": [
    "timestamp_max = higgs_df['datetime'].max()\n",
    "timestamp_max"
   ]
  },
  {
   "cell_type": "markdown",
   "metadata": {},
   "source": [
    "The data ranges from 2011-07-01 to 2012-07-07."
   ]
  },
  {
   "cell_type": "code",
   "execution_count": 13,
   "metadata": {
    "collapsed": false
   },
   "outputs": [
    {
     "data": {
      "image/png": "[encoded data removed]",
      "text/plain": [
       "<matplotlib.figure.Figure at 0x7f67c121d048>"
      ]
     },
     "metadata": {},
     "output_type": "display_data"
    }
   ],
   "source": [
    "a = sns.distplot(higgs_df['timestamp'])"
   ]
  },
  {
   "cell_type": "markdown",
   "metadata": {},
   "source": [
    "The spike in tweets should be correlated with the time Higgs boson was discovered."
   ]
  },
  {
   "cell_type": "code",
   "execution_count": 9,
   "metadata": {
    "collapsed": false
   },
   "outputs": [
    {
     "data": {
      "text/plain": [
       "1341379097.0"
      ]
     },
     "execution_count": 9,
     "metadata": {},
     "output_type": "execute_result"
    }
   ],
   "source": [
    "time_hist = np.histogram(higgs_df['timestamp'], bins=100)\n",
    "timestamp_max_interactions = np.floor(\n",
    "    time_hist[1][np.argmax(time_hist[0])])\n",
    "timestamp_max_interactions"
   ]
  },
  {
   "cell_type": "code",
   "execution_count": 75,
   "metadata": {
    "collapsed": false
   },
   "outputs": [
    {
     "name": "stdout",
     "output_type": "stream",
     "text": [
      "['2012-07-04T05:18:17.000000000']\n"
     ]
    }
   ],
   "source": [
    "datetime_max_interactions = (\n",
    "    higgs_df['datetime']\n",
    "    [higgs_df['timestamp'] == timestamp_max_interactions]\n",
    "    .unique())\n",
    "\n",
    "print(datetime_max_interactions)"
   ]
  },
  {
   "cell_type": "markdown",
   "metadata": {},
   "source": [
    "The peak in interactions corresponds to 2012-07-04. Therefore, data was recorded in a range of plus and minus 3 days from the discovery.\n",
    "\n",
    "It is also useful to plot "
   ]
  },
  {
   "cell_type": "code",
   "execution_count": 11,
   "metadata": {
    "collapsed": false
   },
   "outputs": [
    {
     "data": {
      "text/plain": [
       "<seaborn.axisgrid.FacetGrid at 0x7fa6f43e0cf8>"
      ]
     },
     "execution_count": 11,
     "metadata": {},
     "output_type": "execute_result"
    },
    {
     "data": {
      "image/png": "[encoded data removed]",
      "text/plain": [
       "<matplotlib.figure.Figure at 0x7fa6f43e8eb8>"
      ]
     },
     "metadata": {},
     "output_type": "display_data"
    }
   ],
   "source": [
    "g = sns.FacetGrid(higgs_df, col='interaction', size=5)\n",
    "g.map(sns.distplot, 'timestamp')"
   ]
  },
  {
   "cell_type": "markdown",
   "metadata": {},
   "source": [
    "The distributions are quite similar across interaction types."
   ]
  },
  {
   "cell_type": "markdown",
   "metadata": {},
   "source": [
    "## General graph analysis"
   ]
  },
  {
   "cell_type": "markdown",
   "metadata": {},
   "source": [
    "The following plot corresponds to the distribution of interactions per source user, and the following one for the target ones."
   ]
  },
  {
   "cell_type": "code",
   "execution_count": 12,
   "metadata": {
    "collapsed": false
   },
   "outputs": [
    {
     "data": {
      "text/plain": [
       "<matplotlib.axes._subplots.AxesSubplot at 0x7fa6f42140b8>"
      ]
     },
     "execution_count": 12,
     "metadata": {},
     "output_type": "execute_result"
    },
    {
     "data": {
      "image/png": "[encoded data removed]",
      "text/plain": [
       "<matplotlib.figure.Figure at 0x7fa6f43e8c50>"
      ]
     },
     "metadata": {},
     "output_type": "display_data"
    }
   ],
   "source": [
    "sns.distplot(higgs_df['user_a'])"
   ]
  },
  {
   "cell_type": "code",
   "execution_count": 13,
   "metadata": {
    "collapsed": false
   },
   "outputs": [
    {
     "data": {
      "text/plain": [
       "<matplotlib.axes._subplots.AxesSubplot at 0x7fa6f43dbf60>"
      ]
     },
     "execution_count": 13,
     "metadata": {},
     "output_type": "execute_result"
    },
    {
     "data": {
      "image/png": "[encoded data removed]",
      "text/plain": [
       "<matplotlib.figure.Figure at 0x7fa6f3ec17f0>"
      ]
     },
     "metadata": {},
     "output_type": "display_data"
    }
   ],
   "source": [
    "sns.distplot(higgs_df['user_b'])"
   ]
  },
  {
   "cell_type": "markdown",
   "metadata": {},
   "source": [
    "# Data preparation\n",
    "\n",
    "shape: (steps, interaction)"
   ]
  },
  {
   "cell_type": "code",
   "execution_count": 14,
   "metadata": {
    "collapsed": false
   },
   "outputs": [],
   "source": [
    "higgs_reindexed = higgs_df.set_index('timestamp').sort_index()"
   ]
  },
  {
   "cell_type": "code",
   "execution_count": 15,
   "metadata": {
    "collapsed": false
   },
   "outputs": [
    {
     "data": {
      "text/html": [
       "<div>\n",
       "<table border=\"1\" class=\"dataframe\">\n",
       "  <thead>\n",
       "    <tr style=\"text-align: right;\">\n",
       "      <th></th>\n",
       "      <th>user_a</th>\n",
       "      <th>user_b</th>\n",
       "      <th>interaction</th>\n",
       "      <th>datetime</th>\n",
       "    </tr>\n",
       "    <tr>\n",
       "      <th>timestamp</th>\n",
       "      <th></th>\n",
       "      <th></th>\n",
       "      <th></th>\n",
       "      <th></th>\n",
       "    </tr>\n",
       "  </thead>\n",
       "  <tbody>\n",
       "    <tr>\n",
       "      <th>1341100972</th>\n",
       "      <td>223789</td>\n",
       "      <td>213163</td>\n",
       "      <td>MT</td>\n",
       "      <td>2012-07-01 00:02:52</td>\n",
       "    </tr>\n",
       "    <tr>\n",
       "      <th>1341100972</th>\n",
       "      <td>223789</td>\n",
       "      <td>213163</td>\n",
       "      <td>RE</td>\n",
       "      <td>2012-07-01 00:02:52</td>\n",
       "    </tr>\n",
       "    <tr>\n",
       "      <th>1341101181</th>\n",
       "      <td>376989</td>\n",
       "      <td>50329</td>\n",
       "      <td>RT</td>\n",
       "      <td>2012-07-01 00:06:21</td>\n",
       "    </tr>\n",
       "    <tr>\n",
       "      <th>1341101183</th>\n",
       "      <td>26375</td>\n",
       "      <td>168366</td>\n",
       "      <td>MT</td>\n",
       "      <td>2012-07-01 00:06:23</td>\n",
       "    </tr>\n",
       "    <tr>\n",
       "      <th>1341101192</th>\n",
       "      <td>376989</td>\n",
       "      <td>13813</td>\n",
       "      <td>RT</td>\n",
       "      <td>2012-07-01 00:06:32</td>\n",
       "    </tr>\n",
       "  </tbody>\n",
       "</table>\n",
       "</div>"
      ],
      "text/plain": [
       "            user_a  user_b interaction            datetime\n",
       "timestamp                                                 \n",
       "1341100972  223789  213163          MT 2012-07-01 00:02:52\n",
       "1341100972  223789  213163          RE 2012-07-01 00:02:52\n",
       "1341101181  376989   50329          RT 2012-07-01 00:06:21\n",
       "1341101183   26375  168366          MT 2012-07-01 00:06:23\n",
       "1341101192  376989   13813          RT 2012-07-01 00:06:32"
      ]
     },
     "execution_count": 15,
     "metadata": {},
     "output_type": "execute_result"
    }
   ],
   "source": [
    "higgs_reindexed.head()"
   ]
  },
  {
   "cell_type": "code",
   "execution_count": 16,
   "metadata": {
    "collapsed": false
   },
   "outputs": [
    {
     "data": {
      "text/html": [
       "<div>\n",
       "<table border=\"1\" class=\"dataframe\">\n",
       "  <thead>\n",
       "    <tr style=\"text-align: right;\">\n",
       "      <th></th>\n",
       "      <th>user_a</th>\n",
       "      <th>user_b</th>\n",
       "      <th>interaction_MT</th>\n",
       "      <th>interaction_RE</th>\n",
       "      <th>interaction_RT</th>\n",
       "    </tr>\n",
       "    <tr>\n",
       "      <th>timestamp</th>\n",
       "      <th></th>\n",
       "      <th></th>\n",
       "      <th></th>\n",
       "      <th></th>\n",
       "      <th></th>\n",
       "    </tr>\n",
       "  </thead>\n",
       "  <tbody>\n",
       "    <tr>\n",
       "      <th>1341100972</th>\n",
       "      <td>223789</td>\n",
       "      <td>213163</td>\n",
       "      <td>1.0</td>\n",
       "      <td>0.0</td>\n",
       "      <td>0.0</td>\n",
       "    </tr>\n",
       "    <tr>\n",
       "      <th>1341100972</th>\n",
       "      <td>223789</td>\n",
       "      <td>213163</td>\n",
       "      <td>0.0</td>\n",
       "      <td>1.0</td>\n",
       "      <td>0.0</td>\n",
       "    </tr>\n",
       "    <tr>\n",
       "      <th>1341101181</th>\n",
       "      <td>376989</td>\n",
       "      <td>50329</td>\n",
       "      <td>0.0</td>\n",
       "      <td>0.0</td>\n",
       "      <td>1.0</td>\n",
       "    </tr>\n",
       "    <tr>\n",
       "      <th>1341101183</th>\n",
       "      <td>26375</td>\n",
       "      <td>168366</td>\n",
       "      <td>1.0</td>\n",
       "      <td>0.0</td>\n",
       "      <td>0.0</td>\n",
       "    </tr>\n",
       "    <tr>\n",
       "      <th>1341101192</th>\n",
       "      <td>376989</td>\n",
       "      <td>13813</td>\n",
       "      <td>0.0</td>\n",
       "      <td>0.0</td>\n",
       "      <td>1.0</td>\n",
       "    </tr>\n",
       "  </tbody>\n",
       "</table>\n",
       "</div>"
      ],
      "text/plain": [
       "            user_a  user_b  interaction_MT  interaction_RE  interaction_RT\n",
       "timestamp                                                                 \n",
       "1341100972  223789  213163             1.0             0.0             0.0\n",
       "1341100972  223789  213163             0.0             1.0             0.0\n",
       "1341101181  376989   50329             0.0             0.0             1.0\n",
       "1341101183   26375  168366             1.0             0.0             0.0\n",
       "1341101192  376989   13813             0.0             0.0             1.0"
      ]
     },
     "execution_count": 16,
     "metadata": {},
     "output_type": "execute_result"
    }
   ],
   "source": [
    "higgs_one_hot = higgs_reindexed.drop('datetime', axis=1)\n",
    "higgs_one_hot = pd.get_dummies(higgs_one_hot, columns=['interaction'])\n",
    "\n",
    "higgs_one_hot.head()"
   ]
  },
  {
   "cell_type": "markdown",
   "metadata": {
    "collapsed": true
   },
   "source": [
    "## Build User Dictionaries"
   ]
  },
  {
   "cell_type": "code",
   "execution_count": 17,
   "metadata": {
    "collapsed": false
   },
   "outputs": [],
   "source": [
    "unique_users = pd.concat([higgs_one_hot['user_a'], higgs_one_hot['user_b']]).unique()"
   ]
  },
  {
   "cell_type": "code",
   "execution_count": 18,
   "metadata": {
    "collapsed": true
   },
   "outputs": [],
   "source": [
    "num_users = len(unique_users)"
   ]
  },
  {
   "cell_type": "code",
   "execution_count": 19,
   "metadata": {
    "collapsed": false
   },
   "outputs": [],
   "source": [
    "idx2user = list(unique_users)\n",
    "user2idx = {u: i for i, u in enumerate(idx2user)}"
   ]
  },
  {
   "cell_type": "markdown",
   "metadata": {},
   "source": [
    "## And convert the original ids to the new ones"
   ]
  },
  {
   "cell_type": "code",
   "execution_count": 20,
   "metadata": {
    "collapsed": false
   },
   "outputs": [
    {
     "data": {
      "text/html": [
       "<div>\n",
       "<table border=\"1\" class=\"dataframe\">\n",
       "  <thead>\n",
       "    <tr style=\"text-align: right;\">\n",
       "      <th></th>\n",
       "      <th>user_a</th>\n",
       "      <th>user_b</th>\n",
       "      <th>interaction_MT</th>\n",
       "      <th>interaction_RE</th>\n",
       "      <th>interaction_RT</th>\n",
       "    </tr>\n",
       "    <tr>\n",
       "      <th>timestamp</th>\n",
       "      <th></th>\n",
       "      <th></th>\n",
       "      <th></th>\n",
       "      <th></th>\n",
       "      <th></th>\n",
       "    </tr>\n",
       "  </thead>\n",
       "  <tbody>\n",
       "    <tr>\n",
       "      <th>1341100972</th>\n",
       "      <td>0</td>\n",
       "      <td>50</td>\n",
       "      <td>1.0</td>\n",
       "      <td>0.0</td>\n",
       "      <td>0.0</td>\n",
       "    </tr>\n",
       "    <tr>\n",
       "      <th>1341100972</th>\n",
       "      <td>0</td>\n",
       "      <td>50</td>\n",
       "      <td>0.0</td>\n",
       "      <td>1.0</td>\n",
       "      <td>0.0</td>\n",
       "    </tr>\n",
       "    <tr>\n",
       "      <th>1341101181</th>\n",
       "      <td>1</td>\n",
       "      <td>279379</td>\n",
       "      <td>0.0</td>\n",
       "      <td>0.0</td>\n",
       "      <td>1.0</td>\n",
       "    </tr>\n",
       "    <tr>\n",
       "      <th>1341101183</th>\n",
       "      <td>2</td>\n",
       "      <td>279380</td>\n",
       "      <td>1.0</td>\n",
       "      <td>0.0</td>\n",
       "      <td>0.0</td>\n",
       "    </tr>\n",
       "    <tr>\n",
       "      <th>1341101192</th>\n",
       "      <td>1</td>\n",
       "      <td>54259</td>\n",
       "      <td>0.0</td>\n",
       "      <td>0.0</td>\n",
       "      <td>1.0</td>\n",
       "    </tr>\n",
       "  </tbody>\n",
       "</table>\n",
       "</div>"
      ],
      "text/plain": [
       "            user_a  user_b  interaction_MT  interaction_RE  interaction_RT\n",
       "timestamp                                                                 \n",
       "1341100972       0      50             1.0             0.0             0.0\n",
       "1341100972       0      50             0.0             1.0             0.0\n",
       "1341101181       1  279379             0.0             0.0             1.0\n",
       "1341101183       2  279380             1.0             0.0             0.0\n",
       "1341101192       1   54259             0.0             0.0             1.0"
      ]
     },
     "execution_count": 20,
     "metadata": {},
     "output_type": "execute_result"
    }
   ],
   "source": [
    "higgs_converted = higgs_one_hot.copy()\n",
    "\n",
    "higgs_converted['user_a'] = higgs_converted['user_a'].apply(lambda u : user2idx[u])\n",
    "higgs_converted['user_b'] = higgs_converted['user_b'].apply(lambda u : user2idx[u])\n",
    "\n",
    "higgs_converted.head()"
   ]
  },
  {
   "cell_type": "code",
   "execution_count": 73,
   "metadata": {
    "collapsed": false
   },
   "outputs": [
    {
     "data": {
      "text/plain": [
       "304691"
      ]
     },
     "execution_count": 73,
     "metadata": {},
     "output_type": "execute_result"
    }
   ],
   "source": [
    "num_users"
   ]
  },
  {
   "cell_type": "markdown",
   "metadata": {},
   "source": [
    "## Obtain train, validation and test sets"
   ]
  },
  {
   "cell_type": "code",
   "execution_count": 21,
   "metadata": {
    "collapsed": false
   },
   "outputs": [],
   "source": [
    "test_idx = int(len(higgs_converted) * 0.8)\n",
    "higgs_test = higgs_converted.iloc[test_idx:]"
   ]
  },
  {
   "cell_type": "code",
   "execution_count": 22,
   "metadata": {
    "collapsed": true
   },
   "outputs": [],
   "source": [
    "valid_idx = int(test_idx * 0.8)\n",
    "higgs_valid = higgs_converted.iloc[valid_idx:test_idx]"
   ]
  },
  {
   "cell_type": "code",
   "execution_count": 23,
   "metadata": {
    "collapsed": false
   },
   "outputs": [],
   "source": [
    "higgs_train = higgs_converted.iloc[:valid_idx]"
   ]
  },
  {
   "cell_type": "code",
   "execution_count": 24,
   "metadata": {
    "collapsed": false
   },
   "outputs": [
    {
     "data": {
      "text/plain": [
       "<matplotlib.axes._subplots.AxesSubplot at 0x7fa6f3e600f0>"
      ]
     },
     "execution_count": 24,
     "metadata": {},
     "output_type": "execute_result"
    },
    {
     "data": {
      "image/png": "[encoded data removed]",
      "text/plain": [
       "<matplotlib.figure.Figure at 0x7fa6f3e010b8>"
      ]
     },
     "metadata": {},
     "output_type": "display_data"
    }
   ],
   "source": [
    "sns.distplot(higgs_train.index.values)"
   ]
  },
  {
   "cell_type": "code",
   "execution_count": 25,
   "metadata": {
    "collapsed": false
   },
   "outputs": [
    {
     "data": {
      "text/plain": [
       "<matplotlib.axes._subplots.AxesSubplot at 0x7fa6f3e67da0>"
      ]
     },
     "execution_count": 25,
     "metadata": {},
     "output_type": "execute_result"
    },
    {
     "data": {
      "image/png": "[encoded data removed]",
      "text/plain": [
       "<matplotlib.figure.Figure at 0x7fa6efabbeb8>"
      ]
     },
     "metadata": {},
     "output_type": "display_data"
    }
   ],
   "source": [
    "sns.distplot(higgs_valid.index.values)"
   ]
  },
  {
   "cell_type": "code",
   "execution_count": 26,
   "metadata": {
    "collapsed": false
   },
   "outputs": [
    {
     "data": {
      "text/plain": [
       "<matplotlib.axes._subplots.AxesSubplot at 0x7fa6ef9a8f60>"
      ]
     },
     "execution_count": 26,
     "metadata": {},
     "output_type": "execute_result"
    },
    {
     "data": {
      "image/png": "[encoded data removed]",
      "text/plain": [
       "<matplotlib.figure.Figure at 0x7fa6ef9b97f0>"
      ]
     },
     "metadata": {},
     "output_type": "display_data"
    }
   ],
   "source": [
    "sns.distplot(higgs_test.index.values)"
   ]
  },
  {
   "cell_type": "markdown",
   "metadata": {},
   "source": [
    "## Define features and labels"
   ]
  },
  {
   "cell_type": "code",
   "execution_count": 27,
   "metadata": {
    "collapsed": true
   },
   "outputs": [],
   "source": [
    "features = ['user_a']#, 'interaction_MT', 'interaction_RE', 'interaction_RT']\n",
    "labels = ['user_b']"
   ]
  },
  {
   "cell_type": "markdown",
   "metadata": {},
   "source": [
    "# Long Short-Term Memory Network"
   ]
  },
  {
   "cell_type": "code",
   "execution_count": 28,
   "metadata": {
    "collapsed": true
   },
   "outputs": [],
   "source": [
    "import tensorflow as tf"
   ]
  },
  {
   "cell_type": "markdown",
   "metadata": {
    "collapsed": true
   },
   "source": [
    "## Parameters"
   ]
  },
  {
   "cell_type": "code",
   "execution_count": 29,
   "metadata": {
    "collapsed": true
   },
   "outputs": [],
   "source": [
    "learning_rate = 0.001\n",
    "num_epochs = 10\n",
    "batch_size = 20\n",
    "num_steps = 20\n",
    "display_step = 10"
   ]
  },
  {
   "cell_type": "markdown",
   "metadata": {},
   "source": [
    "## Network parameters"
   ]
  },
  {
   "cell_type": "code",
   "execution_count": 30,
   "metadata": {
    "collapsed": true
   },
   "outputs": [],
   "source": [
    "is_training = True\n",
    "\n",
    "num_input = 4\n",
    "num_hidden = 200\n",
    "num_embedding = num_hidden\n",
    "num_layers = 2\n",
    "keep_prob = 1.0"
   ]
  },
  {
   "cell_type": "markdown",
   "metadata": {},
   "source": [
    "## tf Graph input"
   ]
  },
  {
   "cell_type": "code",
   "execution_count": 31,
   "metadata": {
    "collapsed": true
   },
   "outputs": [],
   "source": [
    "x = tf.placeholder(tf.int32, [batch_size, num_steps])"
   ]
  },
  {
   "cell_type": "code",
   "execution_count": 32,
   "metadata": {
    "collapsed": true
   },
   "outputs": [],
   "source": [
    "y = tf.placeholder(tf.int32, [batch_size, num_steps])"
   ]
  },
  {
   "cell_type": "code",
   "execution_count": 33,
   "metadata": {
    "collapsed": true
   },
   "outputs": [],
   "source": [
    "global_step = tf.Variable(0, name='global_step', trainable=False)"
   ]
  },
  {
   "cell_type": "markdown",
   "metadata": {},
   "source": [
    "## Create LSTM cell"
   ]
  },
  {
   "cell_type": "code",
   "execution_count": 34,
   "metadata": {
    "collapsed": false
   },
   "outputs": [
    {
     "name": "stderr",
     "output_type": "stream",
     "text": [
      "WARNING:tensorflow:<tensorflow.python.ops.rnn_cell.BasicLSTMCell object at 0x7fa6ebc0ea58>: Using a concatenated state is slower and will soon be deprecated.  Use state_is_tuple=True.\n"
     ]
    }
   ],
   "source": [
    "lstm_cell = tf.nn.rnn_cell.BasicLSTMCell(num_hidden, forget_bias=0.0)"
   ]
  },
  {
   "cell_type": "code",
   "execution_count": 35,
   "metadata": {
    "collapsed": true
   },
   "outputs": [],
   "source": [
    "cell = tf.nn.rnn_cell.MultiRNNCell([lstm_cell] * num_layers)"
   ]
  },
  {
   "cell_type": "code",
   "execution_count": 36,
   "metadata": {
    "collapsed": false
   },
   "outputs": [],
   "source": [
    "initial_state = cell.zero_state(batch_size, tf.float32)"
   ]
  },
  {
   "cell_type": "markdown",
   "metadata": {},
   "source": [
    "## Create embeddings for users"
   ]
  },
  {
   "cell_type": "code",
   "execution_count": 37,
   "metadata": {
    "collapsed": false
   },
   "outputs": [],
   "source": [
    "with tf.device('/cpu:0'):\n",
    "    embedding = tf.Variable(tf.random_uniform([num_users, num_embedding]), name=\"embedding\")\n",
    "    embed = tf.nn.embedding_lookup(embedding, x)"
   ]
  },
  {
   "cell_type": "markdown",
   "metadata": {},
   "source": [
    "## Prepare the inputs tensor for LSTM"
   ]
  },
  {
   "cell_type": "code",
   "execution_count": 39,
   "metadata": {
    "collapsed": false
   },
   "outputs": [],
   "source": [
    "inputs = tf.transpose(embed, [1, 0, 2])\n",
    "inputs = tf.split(0, num_steps, inputs)\n",
    "inputs = [tf.squeeze(i) for i in inputs]"
   ]
  },
  {
   "cell_type": "markdown",
   "metadata": {},
   "source": [
    "## Define the forward pass"
   ]
  },
  {
   "cell_type": "code",
   "execution_count": 40,
   "metadata": {
    "collapsed": false
   },
   "outputs": [],
   "source": [
    "outputs, state = tf.nn.rnn(cell, inputs, initial_state=initial_state)"
   ]
  },
  {
   "cell_type": "code",
   "execution_count": 41,
   "metadata": {
    "collapsed": false
   },
   "outputs": [],
   "source": [
    "outputs = tf.reshape(tf.concat(1, outputs), [-1, num_hidden])"
   ]
  },
  {
   "cell_type": "code",
   "execution_count": 42,
   "metadata": {
    "collapsed": false
   },
   "outputs": [],
   "source": [
    "softmax_w = tf.Variable(tf.random_normal([num_hidden, num_users]), name='softmax_w')\n",
    "softmax_b = tf.Variable(tf.zeros([num_users]), name='softmax_b')"
   ]
  },
  {
   "cell_type": "code",
   "execution_count": 43,
   "metadata": {
    "collapsed": false
   },
   "outputs": [],
   "source": [
    "logits = tf.nn.bias_add(tf.matmul(outputs, softmax_w), softmax_b)"
   ]
  },
  {
   "cell_type": "markdown",
   "metadata": {},
   "source": [
    "## Compute loss"
   ]
  },
  {
   "cell_type": "code",
   "execution_count": 44,
   "metadata": {
    "collapsed": false
   },
   "outputs": [],
   "source": [
    "loss = tf.nn.seq2seq.sequence_loss_by_example([logits], \n",
    "                                              [tf.reshape(y, [-1])],\n",
    "                                              [tf.ones([batch_size * num_steps])])"
   ]
  },
  {
   "cell_type": "code",
   "execution_count": 45,
   "metadata": {
    "collapsed": true
   },
   "outputs": [],
   "source": [
    "cost = tf.div(tf.reduce_sum(loss), batch_size, name='cost')"
   ]
  },
  {
   "cell_type": "code",
   "execution_count": 46,
   "metadata": {
    "collapsed": false
   },
   "outputs": [
    {
     "data": {
      "text/plain": [
       "<tf.Tensor 'ScalarSummary:0' shape=() dtype=string>"
      ]
     },
     "execution_count": 46,
     "metadata": {},
     "output_type": "execute_result"
    }
   ],
   "source": [
    "tf.scalar_summary('cost', cost)"
   ]
  },
  {
   "cell_type": "markdown",
   "metadata": {},
   "source": [
    "## Compute accuracy"
   ]
  },
  {
   "cell_type": "code",
   "execution_count": 47,
   "metadata": {
    "collapsed": false
   },
   "outputs": [],
   "source": [
    "correct_pred = tf.equal(tf.cast(tf.argmax(logits, 1), tf.int32), tf.reshape(y, [-1]))"
   ]
  },
  {
   "cell_type": "code",
   "execution_count": 48,
   "metadata": {
    "collapsed": true
   },
   "outputs": [],
   "source": [
    "num_correct = tf.reduce_sum(tf.cast(correct_pred, tf.float32))"
   ]
  },
  {
   "cell_type": "code",
   "execution_count": 49,
   "metadata": {
    "collapsed": true
   },
   "outputs": [],
   "source": [
    "batch_accuracy = tf.reduce_mean(tf.cast(correct_pred, tf.float32))"
   ]
  },
  {
   "cell_type": "code",
   "execution_count": 50,
   "metadata": {
    "collapsed": false
   },
   "outputs": [
    {
     "data": {
      "text/plain": [
       "<tf.Tensor 'ScalarSummary_1:0' shape=() dtype=string>"
      ]
     },
     "execution_count": 50,
     "metadata": {},
     "output_type": "execute_result"
    }
   ],
   "source": [
    "tf.scalar_summary('accuracy', batch_accuracy)"
   ]
  },
  {
   "cell_type": "markdown",
   "metadata": {},
   "source": [
    "## Perform optimization"
   ]
  },
  {
   "cell_type": "code",
   "execution_count": 51,
   "metadata": {
    "collapsed": true
   },
   "outputs": [],
   "source": [
    "optimizer = tf.train.GradientDescentOptimizer(learning_rate).minimize(cost)"
   ]
  },
  {
   "cell_type": "markdown",
   "metadata": {},
   "source": [
    "## Create directory to save the model"
   ]
  },
  {
   "cell_type": "code",
   "execution_count": 60,
   "metadata": {
    "collapsed": true
   },
   "outputs": [],
   "source": [
    "ckpt_dir = 'tensorflow_ckpt'"
   ]
  },
  {
   "cell_type": "code",
   "execution_count": 61,
   "metadata": {
    "collapsed": true
   },
   "outputs": [],
   "source": [
    "if not os.path.exists(ckpt_dir):\n",
    "    os.mkdir(ckpt_dir)"
   ]
  },
  {
   "cell_type": "markdown",
   "metadata": {},
   "source": [
    "## Merge all summaries"
   ]
  },
  {
   "cell_type": "code",
   "execution_count": 62,
   "metadata": {
    "collapsed": true
   },
   "outputs": [],
   "source": [
    "merged_summary_op = tf.merge_all_summaries()"
   ]
  },
  {
   "cell_type": "markdown",
   "metadata": {},
   "source": [
    "## Initialize the variables"
   ]
  },
  {
   "cell_type": "code",
   "execution_count": 63,
   "metadata": {
    "collapsed": true
   },
   "outputs": [],
   "source": [
    "saver = tf.train.Saver()"
   ]
  },
  {
   "cell_type": "code",
   "execution_count": 64,
   "metadata": {
    "collapsed": true
   },
   "outputs": [],
   "source": [
    "init = tf.initialize_all_variables()"
   ]
  },
  {
   "cell_type": "markdown",
   "metadata": {},
   "source": [
    "## Run the graph"
   ]
  },
  {
   "cell_type": "code",
   "execution_count": 69,
   "metadata": {
    "collapsed": false
   },
   "outputs": [],
   "source": [
    "def run_epoch(df, sess, op, epoch, summary_writter, verbose):\n",
    "    \n",
    "    num_batches = ((len(df.index) // batch_size)) // num_steps\n",
    "        \n",
    "    costs = 0.0\n",
    "    iters = 0\n",
    "    correct_count = 0\n",
    "    start_time = time.time()\n",
    "    for step in range(num_batches):\n",
    "            \n",
    "        batch_xs = (df\n",
    "                    .loc[:, features]\n",
    "                    .iloc[step * batch_size * num_steps : (step + 1) * batch_size * num_steps, :]\n",
    "                    .as_matrix()\n",
    "                    .reshape([batch_size, num_steps]))\n",
    "                            \n",
    "        batch_ys = (df\n",
    "                    .loc[:, labels]\n",
    "                    .iloc[step * batch_size * num_steps : (step + 1) * batch_size * num_steps, :]\n",
    "                    .as_matrix()\n",
    "                    .reshape([batch_size, num_steps]))\n",
    "            \n",
    "        batch_loss, batch_correct, acc, _ = sess.run([cost, num_correct, batch_accuracy, op], feed_dict=\n",
    "                                                   {x: batch_xs, y: batch_ys})\n",
    "        \n",
    "        summary_str = sess.run(merged_summary_op, feed_dict={x: batch_xs, y: batch_ys})\n",
    "        summary_writter.add_summary(summary_str, epoch * num_batches + step)\n",
    "            \n",
    "        costs += batch_loss\n",
    "        iters += num_steps\n",
    "        correct_count += batch_correct\n",
    "            \n",
    "        if verbose and step % display_step == 0:            \n",
    "            print(\"{:.4f} perplexity: {:.3f} batch_acuracy: {:.3f} speed: {:.0f} interactions/s\"\n",
    "                    .format(step * 1.0 / num_batches,\n",
    "                            np.exp(costs / iters),\n",
    "                            acc,\n",
    "                            iters * batch_size / (time.time() - start_time)))\n",
    "            \n",
    "    perplexity = np.exp(costs / iters)\n",
    "    accuracy = correct_count / (iters * batch_size)\n",
    "    return (perplexity, accuracy)"
   ]
  },
  {
   "cell_type": "code",
   "execution_count": 70,
   "metadata": {
    "collapsed": false,
    "scrolled": false
   },
   "outputs": [
    {
     "name": "stdout",
     "output_type": "stream",
     "text": [
      "Start from 0\n",
      "0.0000 perplexity: 431190.698 batch_acuracy: 0.000 speed: 60 interactions/s\n",
      "0.0111 perplexity: 166688.316 batch_acuracy: 0.130 speed: 57 interactions/s\n",
      "0.0222 perplexity: 215905.184 batch_acuracy: 0.002 speed: 53 interactions/s\n",
      "0.0333 perplexity: 180139.946 batch_acuracy: 0.097 speed: 52 interactions/s\n",
      "0.0444 perplexity: 174826.673 batch_acuracy: 0.020 speed: 51 interactions/s\n",
      "0.0556 perplexity: 173051.845 batch_acuracy: 0.025 speed: 50 interactions/s\n",
      "0.0667 perplexity: 164725.366 batch_acuracy: 0.058 speed: 50 interactions/s\n",
      "0.0778 perplexity: 150295.344 batch_acuracy: 0.055 speed: 50 interactions/s\n",
      "0.0889 perplexity: 151261.356 batch_acuracy: 0.023 speed: 49 interactions/s\n",
      "0.1000 perplexity: 143330.790 batch_acuracy: 0.123 speed: 49 interactions/s\n",
      "0.1111 perplexity: 137888.837 batch_acuracy: 0.062 speed: 49 interactions/s\n",
      "0.1222 perplexity: 134070.015 batch_acuracy: 0.132 speed: 49 interactions/s\n",
      "0.1333 perplexity: 132546.116 batch_acuracy: 0.075 speed: 49 interactions/s\n",
      "0.1444 perplexity: 134103.854 batch_acuracy: 0.055 speed: 49 interactions/s\n",
      "0.1556 perplexity: 137358.066 batch_acuracy: 0.045 speed: 48 interactions/s\n",
      "0.1667 perplexity: 122122.133 batch_acuracy: 0.558 speed: 48 interactions/s\n",
      "0.1778 perplexity: 104276.648 batch_acuracy: 0.195 speed: 48 interactions/s\n",
      "0.1889 perplexity: 92450.962 batch_acuracy: 0.207 speed: 48 interactions/s\n",
      "0.2000 perplexity: 87987.571 batch_acuracy: 0.062 speed: 48 interactions/s\n",
      "0.2111 perplexity: 86279.930 batch_acuracy: 0.123 speed: 48 interactions/s\n",
      "0.2222 perplexity: 85062.586 batch_acuracy: 0.060 speed: 48 interactions/s\n",
      "0.2333 perplexity: 80058.637 batch_acuracy: 0.078 speed: 48 interactions/s\n",
      "0.2444 perplexity: 75473.235 batch_acuracy: 0.087 speed: 48 interactions/s\n",
      "0.2556 perplexity: 71808.275 batch_acuracy: 0.083 speed: 48 interactions/s\n",
      "0.2667 perplexity: 63996.101 batch_acuracy: 0.153 speed: 48 interactions/s\n",
      "0.2778 perplexity: 61273.238 batch_acuracy: 0.160 speed: 48 interactions/s\n",
      "0.2889 perplexity: 59689.527 batch_acuracy: 0.185 speed: 48 interactions/s\n",
      "0.3000 perplexity: 58322.170 batch_acuracy: 0.140 speed: 48 interactions/s\n",
      "0.3111 perplexity: 58458.773 batch_acuracy: 0.095 speed: 48 interactions/s\n",
      "0.3222 perplexity: 59015.346 batch_acuracy: 0.127 speed: 47 interactions/s\n",
      "0.3333 perplexity: 59370.891 batch_acuracy: 0.127 speed: 47 interactions/s\n",
      "0.3444 perplexity: 59424.893 batch_acuracy: 0.112 speed: 47 interactions/s\n",
      "0.3556 perplexity: 58881.386 batch_acuracy: 0.162 speed: 47 interactions/s\n",
      "0.3667 perplexity: 57486.164 batch_acuracy: 0.115 speed: 47 interactions/s\n",
      "0.3778 perplexity: 56150.524 batch_acuracy: 0.145 speed: 48 interactions/s\n",
      "0.3889 perplexity: 55248.601 batch_acuracy: 0.153 speed: 47 interactions/s\n",
      "0.4000 perplexity: 55438.355 batch_acuracy: 0.097 speed: 48 interactions/s\n",
      "0.4111 perplexity: 55909.612 batch_acuracy: 0.120 speed: 48 interactions/s\n",
      "0.4222 perplexity: 56618.998 batch_acuracy: 0.093 speed: 48 interactions/s\n",
      "0.4333 perplexity: 57560.511 batch_acuracy: 0.165 speed: 48 interactions/s\n",
      "0.4444 perplexity: 57956.241 batch_acuracy: 0.120 speed: 48 interactions/s\n",
      "0.4556 perplexity: 58997.610 batch_acuracy: 0.070 speed: 48 interactions/s\n",
      "0.4667 perplexity: 59975.947 batch_acuracy: 0.102 speed: 48 interactions/s\n",
      "0.4778 perplexity: 60988.056 batch_acuracy: 0.078 speed: 48 interactions/s\n",
      "0.4889 perplexity: 62099.241 batch_acuracy: 0.145 speed: 48 interactions/s\n",
      "0.5000 perplexity: 62322.495 batch_acuracy: 0.108 speed: 48 interactions/s\n",
      "0.5111 perplexity: 63322.486 batch_acuracy: 0.080 speed: 48 interactions/s\n",
      "0.5222 perplexity: 64332.629 batch_acuracy: 0.083 speed: 48 interactions/s\n",
      "0.5333 perplexity: 65241.970 batch_acuracy: 0.052 speed: 48 interactions/s\n",
      "0.5444 perplexity: 66192.652 batch_acuracy: 0.068 speed: 48 interactions/s\n",
      "0.5556 perplexity: 67080.863 batch_acuracy: 0.123 speed: 48 interactions/s\n",
      "0.5667 perplexity: 67828.540 batch_acuracy: 0.102 speed: 48 interactions/s\n",
      "0.5778 perplexity: 68759.083 batch_acuracy: 0.045 speed: 48 interactions/s\n",
      "0.5889 perplexity: 69745.413 batch_acuracy: 0.058 speed: 48 interactions/s\n",
      "0.6000 perplexity: 70814.215 batch_acuracy: 0.070 speed: 48 interactions/s\n",
      "0.6111 perplexity: 71856.193 batch_acuracy: 0.072 speed: 48 interactions/s\n",
      "0.6222 perplexity: 72869.675 batch_acuracy: 0.058 speed: 47 interactions/s\n",
      "0.6333 perplexity: 73941.309 batch_acuracy: 0.065 speed: 47 interactions/s\n",
      "0.6444 perplexity: 74952.253 batch_acuracy: 0.072 speed: 47 interactions/s\n",
      "0.6556 perplexity: 75986.260 batch_acuracy: 0.052 speed: 47 interactions/s\n",
      "0.6667 perplexity: 77027.453 batch_acuracy: 0.052 speed: 47 interactions/s\n",
      "0.6778 perplexity: 78113.449 batch_acuracy: 0.050 speed: 47 interactions/s\n",
      "0.6889 perplexity: 79330.220 batch_acuracy: 0.040 speed: 47 interactions/s\n",
      "0.7000 perplexity: 80464.224 batch_acuracy: 0.043 speed: 47 interactions/s\n",
      "0.7111 perplexity: 81556.822 batch_acuracy: 0.052 speed: 47 interactions/s\n",
      "0.7222 perplexity: 82409.957 batch_acuracy: 0.060 speed: 47 interactions/s\n",
      "0.7333 perplexity: 83446.757 batch_acuracy: 0.043 speed: 47 interactions/s\n",
      "0.7444 perplexity: 84516.696 batch_acuracy: 0.043 speed: 47 interactions/s\n",
      "0.7556 perplexity: 85516.609 batch_acuracy: 0.045 speed: 47 interactions/s\n",
      "0.7667 perplexity: 86489.469 batch_acuracy: 0.040 speed: 47 interactions/s\n",
      "0.7778 perplexity: 86889.466 batch_acuracy: 0.070 speed: 47 interactions/s\n",
      "0.7889 perplexity: 87502.508 batch_acuracy: 0.060 speed: 47 interactions/s\n",
      "0.8000 perplexity: 87562.915 batch_acuracy: 0.068 speed: 47 interactions/s\n",
      "0.8111 perplexity: 88033.962 batch_acuracy: 0.050 speed: 47 interactions/s\n",
      "0.8222 perplexity: 88436.303 batch_acuracy: 0.072 speed: 47 interactions/s\n",
      "0.8333 perplexity: 88688.912 batch_acuracy: 0.045 speed: 47 interactions/s\n",
      "0.8444 perplexity: 89249.056 batch_acuracy: 0.027 speed: 47 interactions/s\n",
      "0.8556 perplexity: 89365.847 batch_acuracy: 0.125 speed: 47 interactions/s\n",
      "0.8667 perplexity: 89387.880 batch_acuracy: 0.062 speed: 47 interactions/s\n",
      "0.8778 perplexity: 89855.242 batch_acuracy: 0.040 speed: 47 interactions/s\n",
      "0.8889 perplexity: 90372.797 batch_acuracy: 0.055 speed: 47 interactions/s\n",
      "0.9000 perplexity: 90848.752 batch_acuracy: 0.032 speed: 47 interactions/s\n",
      "0.9111 perplexity: 90755.535 batch_acuracy: 0.062 speed: 47 interactions/s\n",
      "0.9222 perplexity: 91280.754 batch_acuracy: 0.040 speed: 47 interactions/s\n",
      "0.9333 perplexity: 91912.081 batch_acuracy: 0.047 speed: 47 interactions/s\n",
      "0.9444 perplexity: 92437.628 batch_acuracy: 0.020 speed: 47 interactions/s\n",
      "0.9556 perplexity: 93050.890 batch_acuracy: 0.035 speed: 47 interactions/s\n",
      "0.9667 perplexity: 93582.766 batch_acuracy: 0.045 speed: 47 interactions/s\n",
      "0.9778 perplexity: 94233.457 batch_acuracy: 0.027 speed: 47 interactions/s\n",
      "0.9889 perplexity: 94903.603 batch_acuracy: 0.032 speed: 47 interactions/s\n",
      "Epoch 1 Train Perplexity: 95511.590 Accuracy: 0.090\n",
      "Epoch 1 Validation Perplexity: 304467.739 Accuracy: 0.023\n",
      "0.0000 perplexity: 379736.191 batch_acuracy: 0.015 speed: 55 interactions/s\n",
      "0.0111 perplexity: 95346.093 batch_acuracy: 0.043 speed: 47 interactions/s\n",
      "0.0222 perplexity: 155146.579 batch_acuracy: 0.188 speed: 47 interactions/s\n",
      "0.0333 perplexity: 137650.981 batch_acuracy: 0.097 speed: 47 interactions/s\n",
      "0.0444 perplexity: 141647.551 batch_acuracy: 0.035 speed: 47 interactions/s\n",
      "0.0556 perplexity: 145759.372 batch_acuracy: 0.023 speed: 48 interactions/s\n",
      "0.0667 perplexity: 141328.554 batch_acuracy: 0.038 speed: 47 interactions/s\n",
      "0.0778 perplexity: 128030.124 batch_acuracy: 0.060 speed: 47 interactions/s\n",
      "0.0889 perplexity: 129542.935 batch_acuracy: 0.030 speed: 47 interactions/s\n",
      "0.1000 perplexity: 122436.818 batch_acuracy: 0.123 speed: 47 interactions/s\n",
      "0.1111 perplexity: 117715.778 batch_acuracy: 0.062 speed: 47 interactions/s\n",
      "0.1222 perplexity: 114310.538 batch_acuracy: 0.132 speed: 47 interactions/s\n",
      "0.1333 perplexity: 113517.620 batch_acuracy: 0.075 speed: 47 interactions/s\n",
      "0.1444 perplexity: 115223.115 batch_acuracy: 0.055 speed: 47 interactions/s\n",
      "0.1556 perplexity: 118557.654 batch_acuracy: 0.045 speed: 47 interactions/s\n",
      "0.1667 perplexity: 105614.465 batch_acuracy: 0.558 speed: 47 interactions/s\n",
      "0.1778 perplexity: 89661.901 batch_acuracy: 0.195 speed: 47 interactions/s\n",
      "0.1889 perplexity: 79118.336 batch_acuracy: 0.207 speed: 46 interactions/s\n",
      "0.2000 perplexity: 75303.794 batch_acuracy: 0.068 speed: 47 interactions/s\n",
      "0.2111 perplexity: 73927.956 batch_acuracy: 0.123 speed: 46 interactions/s\n",
      "0.2222 perplexity: 72688.632 batch_acuracy: 0.060 speed: 47 interactions/s\n",
      "0.2333 perplexity: 68190.038 batch_acuracy: 0.087 speed: 46 interactions/s\n",
      "0.2444 perplexity: 64072.214 batch_acuracy: 0.087 speed: 46 interactions/s\n",
      "0.2556 perplexity: 60815.178 batch_acuracy: 0.083 speed: 46 interactions/s\n",
      "0.2667 perplexity: 53885.411 batch_acuracy: 0.150 speed: 46 interactions/s\n",
      "0.2778 perplexity: 51539.140 batch_acuracy: 0.160 speed: 46 interactions/s\n",
      "0.2889 perplexity: 50171.575 batch_acuracy: 0.185 speed: 45 interactions/s\n",
      "0.3000 perplexity: 49012.459 batch_acuracy: 0.140 speed: 45 interactions/s\n",
      "0.3111 perplexity: 49154.975 batch_acuracy: 0.095 speed: 45 interactions/s\n",
      "0.3222 perplexity: 49639.697 batch_acuracy: 0.127 speed: 45 interactions/s\n",
      "0.3333 perplexity: 49943.712 batch_acuracy: 0.127 speed: 45 interactions/s\n",
      "0.3444 perplexity: 50016.808 batch_acuracy: 0.112 speed: 45 interactions/s\n",
      "0.3556 perplexity: 49572.990 batch_acuracy: 0.162 speed: 45 interactions/s\n",
      "0.3667 perplexity: 48387.232 batch_acuracy: 0.115 speed: 45 interactions/s\n",
      "0.3778 perplexity: 47232.726 batch_acuracy: 0.155 speed: 45 interactions/s\n",
      "0.3889 perplexity: 46453.430 batch_acuracy: 0.153 speed: 45 interactions/s\n",
      "0.4000 perplexity: 46611.531 batch_acuracy: 0.097 speed: 45 interactions/s\n",
      "0.4111 perplexity: 47022.392 batch_acuracy: 0.120 speed: 45 interactions/s\n",
      "0.4222 perplexity: 47655.193 batch_acuracy: 0.093 speed: 45 interactions/s\n",
      "0.4333 perplexity: 48504.200 batch_acuracy: 0.165 speed: 45 interactions/s\n",
      "0.4444 perplexity: 48903.649 batch_acuracy: 0.120 speed: 45 interactions/s\n",
      "0.4556 perplexity: 49845.457 batch_acuracy: 0.070 speed: 45 interactions/s\n",
      "0.4667 perplexity: 50731.463 batch_acuracy: 0.102 speed: 45 interactions/s\n",
      "0.4778 perplexity: 51656.273 batch_acuracy: 0.078 speed: 45 interactions/s\n",
      "0.4889 perplexity: 52678.833 batch_acuracy: 0.145 speed: 45 interactions/s\n",
      "0.5000 perplexity: 52926.321 batch_acuracy: 0.108 speed: 45 interactions/s\n",
      "0.5111 perplexity: 53843.755 batch_acuracy: 0.080 speed: 45 interactions/s\n",
      "0.5222 perplexity: 54771.458 batch_acuracy: 0.083 speed: 45 interactions/s\n",
      "0.5333 perplexity: 55608.596 batch_acuracy: 0.052 speed: 45 interactions/s\n",
      "0.5444 perplexity: 56476.525 batch_acuracy: 0.068 speed: 45 interactions/s\n",
      "0.5556 perplexity: 57300.924 batch_acuracy: 0.123 speed: 45 interactions/s\n",
      "0.5667 perplexity: 58005.391 batch_acuracy: 0.102 speed: 45 interactions/s\n",
      "0.5778 perplexity: 58845.053 batch_acuracy: 0.045 speed: 46 interactions/s\n",
      "0.5889 perplexity: 59746.310 batch_acuracy: 0.058 speed: 46 interactions/s\n",
      "0.6000 perplexity: 60720.676 batch_acuracy: 0.070 speed: 46 interactions/s\n",
      "0.6111 perplexity: 61670.435 batch_acuracy: 0.072 speed: 46 interactions/s\n",
      "0.6222 perplexity: 62605.948 batch_acuracy: 0.058 speed: 46 interactions/s\n",
      "0.6333 perplexity: 63594.431 batch_acuracy: 0.065 speed: 46 interactions/s\n",
      "0.6444 perplexity: 64518.384 batch_acuracy: 0.072 speed: 46 interactions/s\n",
      "0.6556 perplexity: 65456.112 batch_acuracy: 0.052 speed: 46 interactions/s\n",
      "0.6667 perplexity: 66411.812 batch_acuracy: 0.052 speed: 46 interactions/s\n",
      "0.6778 perplexity: 67391.008 batch_acuracy: 0.050 speed: 46 interactions/s\n",
      "0.6889 perplexity: 68503.667 batch_acuracy: 0.040 speed: 46 interactions/s\n",
      "0.7000 perplexity: 69555.008 batch_acuracy: 0.043 speed: 46 interactions/s\n",
      "0.7111 perplexity: 70566.059 batch_acuracy: 0.052 speed: 46 interactions/s\n",
      "0.7222 perplexity: 71368.358 batch_acuracy: 0.060 speed: 46 interactions/s\n",
      "0.7333 perplexity: 72330.792 batch_acuracy: 0.043 speed: 46 interactions/s\n",
      "0.7444 perplexity: 73327.997 batch_acuracy: 0.043 speed: 46 interactions/s\n",
      "0.7556 perplexity: 74267.824 batch_acuracy: 0.045 speed: 46 interactions/s\n",
      "0.7667 perplexity: 75175.472 batch_acuracy: 0.040 speed: 46 interactions/s\n",
      "0.7778 perplexity: 75572.118 batch_acuracy: 0.070 speed: 46 interactions/s\n",
      "0.7889 perplexity: 76177.655 batch_acuracy: 0.060 speed: 46 interactions/s\n",
      "0.8000 perplexity: 76314.688 batch_acuracy: 0.068 speed: 46 interactions/s\n",
      "0.8111 perplexity: 76784.976 batch_acuracy: 0.052 speed: 46 interactions/s\n",
      "0.8222 perplexity: 77165.849 batch_acuracy: 0.072 speed: 46 interactions/s\n",
      "0.8333 perplexity: 77428.414 batch_acuracy: 0.045 speed: 46 interactions/s\n",
      "0.8444 perplexity: 77954.773 batch_acuracy: 0.027 speed: 46 interactions/s\n",
      "0.8556 perplexity: 78078.168 batch_acuracy: 0.123 speed: 46 interactions/s\n",
      "0.8667 perplexity: 78117.259 batch_acuracy: 0.062 speed: 46 interactions/s\n",
      "0.8778 perplexity: 78550.243 batch_acuracy: 0.040 speed: 46 interactions/s\n",
      "0.8889 perplexity: 79026.444 batch_acuracy: 0.055 speed: 46 interactions/s\n",
      "0.9000 perplexity: 79482.328 batch_acuracy: 0.035 speed: 46 interactions/s\n",
      "0.9111 perplexity: 79474.763 batch_acuracy: 0.065 speed: 46 interactions/s\n",
      "0.9222 perplexity: 79984.945 batch_acuracy: 0.040 speed: 46 interactions/s\n",
      "0.9333 perplexity: 80582.897 batch_acuracy: 0.050 speed: 46 interactions/s\n",
      "0.9444 perplexity: 81115.170 batch_acuracy: 0.020 speed: 46 interactions/s\n",
      "0.9556 perplexity: 81701.465 batch_acuracy: 0.035 speed: 46 interactions/s\n",
      "0.9667 perplexity: 82216.068 batch_acuracy: 0.045 speed: 46 interactions/s\n",
      "0.9778 perplexity: 82838.146 batch_acuracy: 0.027 speed: 46 interactions/s\n",
      "0.9889 perplexity: 83478.056 batch_acuracy: 0.032 speed: 46 interactions/s\n",
      "Epoch 2 Train Perplexity: 84066.247 Accuracy: 0.090\n",
      "Epoch 2 Validation Perplexity: 286605.083 Accuracy: 0.023\n",
      "0.0000 perplexity: 360291.180 batch_acuracy: 0.015 speed: 61 interactions/s\n",
      "0.0111 perplexity: 92187.900 batch_acuracy: 0.025 speed: 47 interactions/s\n",
      "0.0222 perplexity: 147222.540 batch_acuracy: 0.188 speed: 47 interactions/s\n",
      "0.0333 perplexity: 130602.328 batch_acuracy: 0.097 speed: 46 interactions/s\n",
      "0.0444 perplexity: 133269.498 batch_acuracy: 0.035 speed: 47 interactions/s\n",
      "0.0556 perplexity: 137253.582 batch_acuracy: 0.023 speed: 47 interactions/s\n",
      "0.0667 perplexity: 131861.841 batch_acuracy: 0.027 speed: 47 interactions/s\n",
      "0.0778 perplexity: 118164.710 batch_acuracy: 0.060 speed: 47 interactions/s\n",
      "0.0889 perplexity: 119271.095 batch_acuracy: 0.058 speed: 47 interactions/s\n",
      "0.1000 perplexity: 112029.901 batch_acuracy: 0.123 speed: 47 interactions/s\n",
      "0.1111 perplexity: 107395.917 batch_acuracy: 0.062 speed: 47 interactions/s\n",
      "0.1222 perplexity: 104409.762 batch_acuracy: 0.132 speed: 47 interactions/s\n",
      "0.1333 perplexity: 103835.292 batch_acuracy: 0.075 speed: 47 interactions/s\n",
      "0.1444 perplexity: 105434.752 batch_acuracy: 0.055 speed: 47 interactions/s\n",
      "0.1556 perplexity: 108674.405 batch_acuracy: 0.045 speed: 47 interactions/s\n",
      "0.1667 perplexity: 96933.131 batch_acuracy: 0.558 speed: 47 interactions/s\n",
      "0.1778 perplexity: 82152.615 batch_acuracy: 0.195 speed: 47 interactions/s\n",
      "0.1889 perplexity: 72312.760 batch_acuracy: 0.207 speed: 47 interactions/s\n",
      "0.2000 perplexity: 68707.953 batch_acuracy: 0.065 speed: 47 interactions/s\n",
      "0.2111 perplexity: 67334.085 batch_acuracy: 0.123 speed: 47 interactions/s\n",
      "0.2222 perplexity: 65957.859 batch_acuracy: 0.060 speed: 47 interactions/s\n",
      "0.2333 perplexity: 61610.108 batch_acuracy: 0.112 speed: 46 interactions/s\n",
      "0.2444 perplexity: 57713.501 batch_acuracy: 0.087 speed: 46 interactions/s\n",
      "0.2556 perplexity: 54633.058 batch_acuracy: 0.083 speed: 47 interactions/s\n",
      "0.2667 perplexity: 48305.167 batch_acuracy: 0.157 speed: 46 interactions/s\n",
      "0.2778 perplexity: 46150.676 batch_acuracy: 0.160 speed: 46 interactions/s\n",
      "0.2889 perplexity: 44887.809 batch_acuracy: 0.185 speed: 46 interactions/s\n",
      "0.3000 perplexity: 43828.434 batch_acuracy: 0.140 speed: 46 interactions/s\n",
      "0.3111 perplexity: 43951.189 batch_acuracy: 0.095 speed: 46 interactions/s\n",
      "0.3222 perplexity: 44368.217 batch_acuracy: 0.127 speed: 46 interactions/s\n",
      "0.3333 perplexity: 44616.072 batch_acuracy: 0.127 speed: 46 interactions/s\n",
      "0.3444 perplexity: 44675.782 batch_acuracy: 0.112 speed: 46 interactions/s\n",
      "0.3556 perplexity: 44269.320 batch_acuracy: 0.162 speed: 46 interactions/s\n",
      "0.3667 perplexity: 43187.089 batch_acuracy: 0.115 speed: 46 interactions/s\n",
      "0.3778 perplexity: 42119.539 batch_acuracy: 0.142 speed: 46 interactions/s\n",
      "0.3889 perplexity: 41399.794 batch_acuracy: 0.153 speed: 46 interactions/s\n",
      "0.4000 perplexity: 41521.121 batch_acuracy: 0.097 speed: 46 interactions/s\n",
      "0.4111 perplexity: 41876.127 batch_acuracy: 0.120 speed: 46 interactions/s\n",
      "0.4222 perplexity: 42445.630 batch_acuracy: 0.093 speed: 46 interactions/s\n",
      "0.4333 perplexity: 43213.834 batch_acuracy: 0.165 speed: 46 interactions/s\n",
      "0.4444 perplexity: 43594.815 batch_acuracy: 0.120 speed: 46 interactions/s\n",
      "0.4556 perplexity: 44457.916 batch_acuracy: 0.070 speed: 46 interactions/s\n",
      "0.4667 perplexity: 45271.788 batch_acuracy: 0.102 speed: 46 interactions/s\n",
      "0.4778 perplexity: 46124.008 batch_acuracy: 0.078 speed: 46 interactions/s\n",
      "0.4889 perplexity: 47073.449 batch_acuracy: 0.145 speed: 46 interactions/s\n",
      "0.5000 perplexity: 47322.968 batch_acuracy: 0.108 speed: 46 interactions/s\n",
      "0.5111 perplexity: 48173.295 batch_acuracy: 0.080 speed: 46 interactions/s\n",
      "0.5222 perplexity: 49035.420 batch_acuracy: 0.083 speed: 46 interactions/s\n",
      "0.5333 perplexity: 49810.828 batch_acuracy: 0.052 speed: 46 interactions/s\n",
      "0.5444 perplexity: 50614.302 batch_acuracy: 0.068 speed: 46 interactions/s\n",
      "0.5556 perplexity: 51382.898 batch_acuracy: 0.123 speed: 46 interactions/s\n",
      "0.5667 perplexity: 52043.897 batch_acuracy: 0.102 speed: 46 interactions/s\n",
      "0.5778 perplexity: 52812.420 batch_acuracy: 0.045 speed: 46 interactions/s\n",
      "0.5889 perplexity: 53646.177 batch_acuracy: 0.058 speed: 46 interactions/s\n",
      "0.6000 perplexity: 54545.050 batch_acuracy: 0.070 speed: 46 interactions/s\n",
      "0.6111 perplexity: 55420.998 batch_acuracy: 0.072 speed: 46 interactions/s\n",
      "0.6222 perplexity: 56291.905 batch_acuracy: 0.058 speed: 46 interactions/s\n",
      "0.6333 perplexity: 57212.547 batch_acuracy: 0.065 speed: 46 interactions/s\n",
      "0.6444 perplexity: 58069.265 batch_acuracy: 0.072 speed: 46 interactions/s\n",
      "0.6556 perplexity: 58932.720 batch_acuracy: 0.052 speed: 46 interactions/s\n",
      "0.6667 perplexity: 59820.254 batch_acuracy: 0.052 speed: 46 interactions/s\n",
      "0.6778 perplexity: 60716.993 batch_acuracy: 0.050 speed: 46 interactions/s\n",
      "0.6889 perplexity: 61747.167 batch_acuracy: 0.040 speed: 46 interactions/s\n",
      "0.7000 perplexity: 62731.601 batch_acuracy: 0.043 speed: 46 interactions/s\n",
      "0.7111 perplexity: 63677.785 batch_acuracy: 0.052 speed: 46 interactions/s\n",
      "0.7222 perplexity: 64434.444 batch_acuracy: 0.060 speed: 46 interactions/s\n",
      "0.7333 perplexity: 65337.898 batch_acuracy: 0.043 speed: 46 interactions/s\n",
      "0.7444 perplexity: 66275.863 batch_acuracy: 0.043 speed: 46 interactions/s\n",
      "0.7556 perplexity: 67165.105 batch_acuracy: 0.045 speed: 46 interactions/s\n",
      "0.7667 perplexity: 68017.271 batch_acuracy: 0.040 speed: 46 interactions/s\n",
      "0.7778 perplexity: 68403.368 batch_acuracy: 0.070 speed: 46 interactions/s\n",
      "0.7889 perplexity: 68987.376 batch_acuracy: 0.060 speed: 46 interactions/s\n",
      "0.8000 perplexity: 69156.963 batch_acuracy: 0.068 speed: 46 interactions/s\n",
      "0.8111 perplexity: 69615.019 batch_acuracy: 0.052 speed: 46 interactions/s\n",
      "0.8222 perplexity: 69970.470 batch_acuracy: 0.072 speed: 46 interactions/s\n",
      "0.8333 perplexity: 70226.194 batch_acuracy: 0.045 speed: 46 interactions/s\n",
      "0.8444 perplexity: 70719.796 batch_acuracy: 0.027 speed: 46 interactions/s\n",
      "0.8556 perplexity: 70832.462 batch_acuracy: 0.125 speed: 46 interactions/s\n",
      "0.8667 perplexity: 70872.929 batch_acuracy: 0.068 speed: 46 interactions/s\n",
      "0.8778 perplexity: 71271.664 batch_acuracy: 0.040 speed: 46 interactions/s\n",
      "0.8889 perplexity: 71708.192 batch_acuracy: 0.052 speed: 46 interactions/s\n",
      "0.9000 perplexity: 72138.362 batch_acuracy: 0.035 speed: 46 interactions/s\n",
      "0.9111 perplexity: 72170.085 batch_acuracy: 0.062 speed: 46 interactions/s\n",
      "0.9222 perplexity: 72659.213 batch_acuracy: 0.040 speed: 46 interactions/s\n",
      "0.9333 perplexity: 73223.879 batch_acuracy: 0.045 speed: 46 interactions/s\n",
      "0.9444 perplexity: 73747.765 batch_acuracy: 0.020 speed: 46 interactions/s\n",
      "0.9556 perplexity: 74306.979 batch_acuracy: 0.035 speed: 46 interactions/s\n",
      "0.9667 perplexity: 74799.223 batch_acuracy: 0.045 speed: 46 interactions/s\n",
      "0.9778 perplexity: 75391.091 batch_acuracy: 0.027 speed: 46 interactions/s\n",
      "0.9889 perplexity: 75998.238 batch_acuracy: 0.032 speed: 46 interactions/s\n",
      "Epoch 3 Train Perplexity: 76561.200 Accuracy: 0.090\n",
      "Epoch 3 Validation Perplexity: 271673.958 Accuracy: 0.023\n",
      "0.0000 perplexity: 343111.746 batch_acuracy: 0.015 speed: 58 interactions/s\n",
      "0.0111 perplexity: 89274.368 batch_acuracy: 0.025 speed: 45 interactions/s\n",
      "0.0222 perplexity: 140619.206 batch_acuracy: 0.188 speed: 45 interactions/s\n",
      "0.0333 perplexity: 124694.138 batch_acuracy: 0.097 speed: 45 interactions/s\n",
      "0.0444 perplexity: 126023.286 batch_acuracy: 0.035 speed: 45 interactions/s\n",
      "0.0556 perplexity: 129799.656 batch_acuracy: 0.023 speed: 45 interactions/s\n",
      "0.0667 perplexity: 124116.386 batch_acuracy: 0.015 speed: 45 interactions/s\n",
      "0.0778 perplexity: 110445.008 batch_acuracy: 0.060 speed: 45 interactions/s\n",
      "0.0889 perplexity: 111262.264 batch_acuracy: 0.068 speed: 45 interactions/s\n",
      "0.1000 perplexity: 103988.453 batch_acuracy: 0.123 speed: 45 interactions/s\n",
      "0.1111 perplexity: 99503.365 batch_acuracy: 0.062 speed: 45 interactions/s\n",
      "0.1222 perplexity: 96868.509 batch_acuracy: 0.132 speed: 45 interactions/s\n",
      "0.1333 perplexity: 96459.788 batch_acuracy: 0.075 speed: 45 interactions/s\n",
      "0.1444 perplexity: 97973.025 batch_acuracy: 0.055 speed: 45 interactions/s\n",
      "0.1556 perplexity: 101155.916 batch_acuracy: 0.045 speed: 45 interactions/s\n",
      "0.1667 perplexity: 90364.023 batch_acuracy: 0.558 speed: 45 interactions/s\n",
      "0.1778 perplexity: 76535.041 batch_acuracy: 0.195 speed: 45 interactions/s\n",
      "0.1889 perplexity: 67259.284 batch_acuracy: 0.207 speed: 45 interactions/s\n",
      "0.2000 perplexity: 63811.662 batch_acuracy: 0.070 speed: 45 interactions/s\n",
      "0.2111 perplexity: 62438.075 batch_acuracy: 0.123 speed: 45 interactions/s\n",
      "0.2222 perplexity: 60973.091 batch_acuracy: 0.060 speed: 45 interactions/s\n",
      "0.2333 perplexity: 56745.704 batch_acuracy: 0.127 speed: 45 interactions/s\n",
      "0.2444 perplexity: 53011.560 batch_acuracy: 0.087 speed: 45 interactions/s\n",
      "0.2556 perplexity: 50057.916 batch_acuracy: 0.078 speed: 45 interactions/s\n",
      "0.2667 perplexity: 44194.583 batch_acuracy: 0.157 speed: 45 interactions/s\n",
      "0.2778 perplexity: 42187.746 batch_acuracy: 0.160 speed: 45 interactions/s\n",
      "0.2889 perplexity: 41012.188 batch_acuracy: 0.185 speed: 45 interactions/s\n",
      "0.3000 perplexity: 40031.734 batch_acuracy: 0.140 speed: 45 interactions/s\n",
      "0.3111 perplexity: 40140.610 batch_acuracy: 0.095 speed: 45 interactions/s\n",
      "0.3222 perplexity: 40502.642 batch_acuracy: 0.127 speed: 45 interactions/s\n",
      "0.3333 perplexity: 40707.846 batch_acuracy: 0.127 speed: 45 interactions/s\n",
      "0.3444 perplexity: 40752.777 batch_acuracy: 0.112 speed: 45 interactions/s\n",
      "0.3556 perplexity: 40370.713 batch_acuracy: 0.162 speed: 45 interactions/s\n",
      "0.3667 perplexity: 39365.959 batch_acuracy: 0.112 speed: 45 interactions/s\n",
      "0.3778 perplexity: 38365.867 batch_acuracy: 0.145 speed: 45 interactions/s\n",
      "0.3889 perplexity: 37692.374 batch_acuracy: 0.153 speed: 45 interactions/s\n",
      "0.4000 perplexity: 37787.462 batch_acuracy: 0.097 speed: 45 interactions/s\n",
      "0.4111 perplexity: 38100.348 batch_acuracy: 0.120 speed: 46 interactions/s\n",
      "0.4222 perplexity: 38623.124 batch_acuracy: 0.093 speed: 46 interactions/s\n",
      "0.4333 perplexity: 39327.064 batch_acuracy: 0.165 speed: 46 interactions/s\n",
      "0.4444 perplexity: 39687.935 batch_acuracy: 0.120 speed: 46 interactions/s\n",
      "0.4556 perplexity: 40488.816 batch_acuracy: 0.070 speed: 46 interactions/s\n",
      "0.4667 perplexity: 41245.822 batch_acuracy: 0.102 speed: 46 interactions/s\n",
      "0.4778 perplexity: 42039.346 batch_acuracy: 0.078 speed: 46 interactions/s\n",
      "0.4889 perplexity: 42928.264 batch_acuracy: 0.145 speed: 46 interactions/s\n",
      "0.5000 perplexity: 43176.555 batch_acuracy: 0.108 speed: 46 interactions/s\n",
      "0.5111 perplexity: 43973.241 batch_acuracy: 0.080 speed: 46 interactions/s\n",
      "0.5222 perplexity: 44783.514 batch_acuracy: 0.083 speed: 46 interactions/s\n",
      "0.5333 perplexity: 45509.050 batch_acuracy: 0.052 speed: 46 interactions/s\n",
      "0.5444 perplexity: 46261.880 batch_acuracy: 0.068 speed: 46 interactions/s\n",
      "0.5556 perplexity: 46984.725 batch_acuracy: 0.123 speed: 46 interactions/s\n",
      "0.5667 perplexity: 47608.337 batch_acuracy: 0.102 speed: 46 interactions/s\n",
      "0.5778 perplexity: 48320.389 batch_acuracy: 0.045 speed: 46 interactions/s\n",
      "0.5889 perplexity: 49099.912 batch_acuracy: 0.058 speed: 46 interactions/s\n",
      "0.6000 perplexity: 49937.459 batch_acuracy: 0.070 speed: 46 interactions/s\n",
      "0.6111 perplexity: 50753.862 batch_acuracy: 0.072 speed: 46 interactions/s\n",
      "0.6222 perplexity: 51570.882 batch_acuracy: 0.058 speed: 46 interactions/s\n",
      "0.6333 perplexity: 52435.966 batch_acuracy: 0.065 speed: 46 interactions/s\n",
      "0.6444 perplexity: 53238.300 batch_acuracy: 0.072 speed: 46 interactions/s\n",
      "0.6556 perplexity: 54042.295 batch_acuracy: 0.052 speed: 46 interactions/s\n",
      "0.6667 perplexity: 54874.467 batch_acuracy: 0.052 speed: 46 interactions/s\n",
      "0.6778 perplexity: 55705.781 batch_acuracy: 0.050 speed: 46 interactions/s\n",
      "0.6889 perplexity: 56668.847 batch_acuracy: 0.040 speed: 46 interactions/s\n",
      "0.7000 perplexity: 57598.117 batch_acuracy: 0.043 speed: 46 interactions/s\n",
      "0.7111 perplexity: 58491.049 batch_acuracy: 0.052 speed: 46 interactions/s\n",
      "0.7222 perplexity: 59208.866 batch_acuracy: 0.060 speed: 46 interactions/s\n",
      "0.7333 perplexity: 60063.881 batch_acuracy: 0.043 speed: 46 interactions/s\n",
      "0.7444 perplexity: 60952.237 batch_acuracy: 0.043 speed: 46 interactions/s\n",
      "0.7556 perplexity: 61798.930 batch_acuracy: 0.045 speed: 46 interactions/s\n",
      "0.7667 perplexity: 62604.582 batch_acuracy: 0.040 speed: 46 interactions/s\n",
      "0.7778 perplexity: 62981.022 batch_acuracy: 0.070 speed: 46 interactions/s\n",
      "0.7889 perplexity: 63542.138 batch_acuracy: 0.060 speed: 46 interactions/s\n",
      "0.8000 perplexity: 63729.736 batch_acuracy: 0.058 speed: 46 interactions/s\n",
      "0.8111 perplexity: 64174.724 batch_acuracy: 0.052 speed: 46 interactions/s\n",
      "0.8222 perplexity: 64508.281 batch_acuracy: 0.072 speed: 46 interactions/s\n",
      "0.8333 perplexity: 64755.683 batch_acuracy: 0.045 speed: 46 interactions/s\n",
      "0.8444 perplexity: 65222.491 batch_acuracy: 0.027 speed: 46 interactions/s\n",
      "0.8556 perplexity: 65326.694 batch_acuracy: 0.125 speed: 46 interactions/s\n",
      "0.8667 perplexity: 65367.332 batch_acuracy: 0.068 speed: 46 interactions/s\n",
      "0.8778 perplexity: 65737.414 batch_acuracy: 0.040 speed: 46 interactions/s\n",
      "0.8889 perplexity: 66140.431 batch_acuracy: 0.052 speed: 46 interactions/s\n",
      "0.9000 perplexity: 66547.577 batch_acuracy: 0.035 speed: 46 interactions/s\n",
      "0.9111 perplexity: 66599.562 batch_acuracy: 0.047 speed: 46 interactions/s\n",
      "0.9222 perplexity: 67069.322 batch_acuracy: 0.038 speed: 46 interactions/s\n",
      "0.9333 perplexity: 67605.460 batch_acuracy: 0.050 speed: 46 interactions/s\n",
      "0.9444 perplexity: 68116.711 batch_acuracy: 0.020 speed: 46 interactions/s\n",
      "0.9556 perplexity: 68652.614 batch_acuracy: 0.035 speed: 46 interactions/s\n",
      "0.9667 perplexity: 69124.079 batch_acuracy: 0.045 speed: 46 interactions/s\n",
      "0.9778 perplexity: 69688.664 batch_acuracy: 0.027 speed: 46 interactions/s\n",
      "0.9889 perplexity: 70267.197 batch_acuracy: 0.032 speed: 46 interactions/s\n",
      "Epoch 4 Train Perplexity: 70806.680 Accuracy: 0.090\n",
      "Epoch 4 Validation Perplexity: 259030.299 Accuracy: 0.023\n",
      "0.0000 perplexity: 328387.908 batch_acuracy: 0.015 speed: 49 interactions/s\n",
      "0.0111 perplexity: 86950.414 batch_acuracy: 0.025 speed: 46 interactions/s\n",
      "0.0222 perplexity: 135251.532 batch_acuracy: 0.188 speed: 46 interactions/s\n",
      "0.0333 perplexity: 119763.998 batch_acuracy: 0.097 speed: 46 interactions/s\n",
      "0.0444 perplexity: 119782.743 batch_acuracy: 0.035 speed: 46 interactions/s\n",
      "0.0556 perplexity: 123172.891 batch_acuracy: 0.023 speed: 46 interactions/s\n",
      "0.0667 perplexity: 117094.997 batch_acuracy: 0.015 speed: 46 interactions/s\n",
      "0.0778 perplexity: 103851.138 batch_acuracy: 0.060 speed: 46 interactions/s\n",
      "0.0889 perplexity: 104519.754 batch_acuracy: 0.072 speed: 46 interactions/s\n",
      "0.1000 perplexity: 97300.049 batch_acuracy: 0.123 speed: 46 interactions/s\n",
      "0.1111 perplexity: 92993.681 batch_acuracy: 0.062 speed: 46 interactions/s\n",
      "0.1222 perplexity: 90630.127 batch_acuracy: 0.132 speed: 45 interactions/s\n",
      "0.1333 perplexity: 90355.471 batch_acuracy: 0.075 speed: 45 interactions/s\n",
      "0.1444 perplexity: 91790.032 batch_acuracy: 0.055 speed: 45 interactions/s\n",
      "0.1556 perplexity: 94933.818 batch_acuracy: 0.045 speed: 46 interactions/s\n",
      "0.1667 perplexity: 84945.449 batch_acuracy: 0.558 speed: 46 interactions/s\n",
      "0.1778 perplexity: 71935.372 batch_acuracy: 0.195 speed: 46 interactions/s\n",
      "0.1889 perplexity: 63153.450 batch_acuracy: 0.207 speed: 46 interactions/s\n",
      "0.2000 perplexity: 59857.890 batch_acuracy: 0.070 speed: 46 interactions/s\n",
      "0.2111 perplexity: 58503.803 batch_acuracy: 0.123 speed: 46 interactions/s\n",
      "0.2222 perplexity: 57013.779 batch_acuracy: 0.060 speed: 46 interactions/s\n",
      "0.2333 perplexity: 52911.299 batch_acuracy: 0.127 speed: 46 interactions/s\n",
      "0.2444 perplexity: 49311.862 batch_acuracy: 0.087 speed: 46 interactions/s\n",
      "0.2556 perplexity: 46463.457 batch_acuracy: 0.095 speed: 46 interactions/s\n",
      "0.2667 perplexity: 40979.634 batch_acuracy: 0.155 speed: 46 interactions/s\n",
      "0.2778 perplexity: 39091.298 batch_acuracy: 0.160 speed: 46 interactions/s\n",
      "0.2889 perplexity: 37986.930 batch_acuracy: 0.185 speed: 46 interactions/s\n",
      "0.3000 perplexity: 37071.069 batch_acuracy: 0.140 speed: 46 interactions/s\n",
      "0.3111 perplexity: 37168.372 batch_acuracy: 0.095 speed: 46 interactions/s\n",
      "0.3222 perplexity: 37482.162 batch_acuracy: 0.127 speed: 46 interactions/s\n",
      "0.3333 perplexity: 37654.285 batch_acuracy: 0.127 speed: 46 interactions/s\n",
      "0.3444 perplexity: 37684.576 batch_acuracy: 0.112 speed: 46 interactions/s\n",
      "0.3556 perplexity: 37319.204 batch_acuracy: 0.162 speed: 46 interactions/s\n",
      "0.3667 perplexity: 36375.518 batch_acuracy: 0.112 speed: 46 interactions/s\n",
      "0.3778 perplexity: 35429.103 batch_acuracy: 0.147 speed: 46 interactions/s\n",
      "0.3889 perplexity: 34792.209 batch_acuracy: 0.153 speed: 46 interactions/s\n",
      "0.4000 perplexity: 34866.153 batch_acuracy: 0.097 speed: 46 interactions/s\n",
      "0.4111 perplexity: 35144.352 batch_acuracy: 0.120 speed: 46 interactions/s\n",
      "0.4222 perplexity: 35630.115 batch_acuracy: 0.093 speed: 46 interactions/s\n",
      "0.4333 perplexity: 36282.047 batch_acuracy: 0.165 speed: 46 interactions/s\n",
      "0.4444 perplexity: 36624.168 batch_acuracy: 0.120 speed: 46 interactions/s\n",
      "0.4556 perplexity: 37373.393 batch_acuracy: 0.070 speed: 46 interactions/s\n",
      "0.4667 perplexity: 38083.091 batch_acuracy: 0.102 speed: 46 interactions/s\n",
      "0.4778 perplexity: 38827.605 batch_acuracy: 0.078 speed: 46 interactions/s\n",
      "0.4889 perplexity: 39663.062 batch_acuracy: 0.145 speed: 46 interactions/s\n",
      "0.5000 perplexity: 39906.338 batch_acuracy: 0.108 speed: 46 interactions/s\n",
      "0.5111 perplexity: 40656.639 batch_acuracy: 0.080 speed: 46 interactions/s\n",
      "0.5222 perplexity: 41422.357 batch_acuracy: 0.083 speed: 46 interactions/s\n",
      "0.5333 perplexity: 42105.461 batch_acuracy: 0.052 speed: 46 interactions/s\n",
      "0.5444 perplexity: 42816.052 batch_acuracy: 0.068 speed: 47 interactions/s\n",
      "0.5556 perplexity: 43500.091 batch_acuracy: 0.123 speed: 46 interactions/s\n",
      "0.5667 perplexity: 44090.966 batch_acuracy: 0.102 speed: 47 interactions/s\n",
      "0.5778 perplexity: 44756.416 batch_acuracy: 0.045 speed: 47 interactions/s\n",
      "0.5889 perplexity: 45491.211 batch_acuracy: 0.058 speed: 47 interactions/s\n",
      "0.6000 perplexity: 46278.195 batch_acuracy: 0.070 speed: 47 interactions/s\n",
      "0.6111 perplexity: 47046.094 batch_acuracy: 0.072 speed: 47 interactions/s\n",
      "0.6222 perplexity: 47817.558 batch_acuracy: 0.058 speed: 47 interactions/s\n",
      "0.6333 perplexity: 48635.423 batch_acuracy: 0.065 speed: 47 interactions/s\n",
      "0.6444 perplexity: 49392.230 batch_acuracy: 0.072 speed: 47 interactions/s\n",
      "0.6556 perplexity: 50146.801 batch_acuracy: 0.052 speed: 46 interactions/s\n",
      "0.6667 perplexity: 50932.464 batch_acuracy: 0.052 speed: 46 interactions/s\n",
      "0.6778 perplexity: 51710.316 batch_acuracy: 0.050 speed: 46 interactions/s\n",
      "0.6889 perplexity: 52617.481 batch_acuracy: 0.040 speed: 46 interactions/s\n",
      "0.7000 perplexity: 53500.241 batch_acuracy: 0.043 speed: 46 interactions/s\n",
      "0.7111 perplexity: 54347.928 batch_acuracy: 0.052 speed: 46 interactions/s\n",
      "0.7222 perplexity: 55032.237 batch_acuracy: 0.060 speed: 46 interactions/s\n",
      "0.7333 perplexity: 55846.046 batch_acuracy: 0.043 speed: 46 interactions/s\n",
      "0.7444 perplexity: 56691.821 batch_acuracy: 0.043 speed: 46 interactions/s\n",
      "0.7556 perplexity: 57502.055 batch_acuracy: 0.045 speed: 46 interactions/s\n",
      "0.7667 perplexity: 58268.057 batch_acuracy: 0.040 speed: 46 interactions/s\n",
      "0.7778 perplexity: 58635.703 batch_acuracy: 0.070 speed: 46 interactions/s\n",
      "0.7889 perplexity: 59174.230 batch_acuracy: 0.060 speed: 46 interactions/s\n",
      "0.8000 perplexity: 59372.431 batch_acuracy: 0.035 speed: 46 interactions/s\n",
      "0.8111 perplexity: 59804.521 batch_acuracy: 0.052 speed: 46 interactions/s\n",
      "0.8222 perplexity: 60119.168 batch_acuracy: 0.072 speed: 46 interactions/s\n",
      "0.8333 perplexity: 60357.870 batch_acuracy: 0.045 speed: 46 interactions/s\n",
      "0.8444 perplexity: 60802.363 batch_acuracy: 0.027 speed: 46 interactions/s\n",
      "0.8556 perplexity: 60901.230 batch_acuracy: 0.125 speed: 46 interactions/s\n",
      "0.8667 perplexity: 60941.884 batch_acuracy: 0.070 speed: 46 interactions/s\n",
      "0.8778 perplexity: 61287.601 batch_acuracy: 0.038 speed: 46 interactions/s\n",
      "0.8889 perplexity: 61661.730 batch_acuracy: 0.050 speed: 46 interactions/s\n",
      "0.9000 perplexity: 62048.537 batch_acuracy: 0.030 speed: 46 interactions/s\n",
      "0.9111 perplexity: 62109.371 batch_acuracy: 0.027 speed: 46 interactions/s\n",
      "0.9222 perplexity: 62561.071 batch_acuracy: 0.040 speed: 46 interactions/s\n",
      "0.9333 perplexity: 63072.049 batch_acuracy: 0.045 speed: 46 interactions/s\n",
      "0.9444 perplexity: 63567.500 batch_acuracy: 0.020 speed: 46 interactions/s\n",
      "0.9556 perplexity: 64082.409 batch_acuracy: 0.035 speed: 46 interactions/s\n",
      "0.9667 perplexity: 64534.563 batch_acuracy: 0.045 speed: 46 interactions/s\n",
      "0.9778 perplexity: 65074.230 batch_acuracy: 0.027 speed: 46 interactions/s\n",
      "0.9889 perplexity: 65627.552 batch_acuracy: 0.032 speed: 46 interactions/s\n",
      "Epoch 5 Train Perplexity: 66145.653 Accuracy: 0.090\n",
      "Epoch 5 Validation Perplexity: 248747.493 Accuracy: 0.023\n",
      "0.0000 perplexity: 317122.465 batch_acuracy: 0.015 speed: 48 interactions/s\n",
      "0.0111 perplexity: 84755.753 batch_acuracy: 0.025 speed: 45 interactions/s\n",
      "0.0222 perplexity: 130783.516 batch_acuracy: 0.188 speed: 45 interactions/s\n",
      "0.0333 perplexity: 115724.155 batch_acuracy: 0.097 speed: 45 interactions/s\n",
      "0.0444 perplexity: 114895.252 batch_acuracy: 0.035 speed: 45 interactions/s\n",
      "0.0556 perplexity: 117909.003 batch_acuracy: 0.023 speed: 45 interactions/s\n",
      "0.0667 perplexity: 111204.682 batch_acuracy: 0.015 speed: 45 interactions/s\n",
      "0.0778 perplexity: 98287.111 batch_acuracy: 0.060 speed: 45 interactions/s\n",
      "0.0889 perplexity: 98861.378 batch_acuracy: 0.072 speed: 46 interactions/s\n",
      "0.1000 perplexity: 91748.813 batch_acuracy: 0.123 speed: 46 interactions/s\n",
      "0.1111 perplexity: 87617.780 batch_acuracy: 0.062 speed: 46 interactions/s\n",
      "0.1222 perplexity: 85436.598 batch_acuracy: 0.132 speed: 46 interactions/s\n",
      "0.1333 perplexity: 85245.546 batch_acuracy: 0.075 speed: 46 interactions/s\n",
      "0.1444 perplexity: 86588.271 batch_acuracy: 0.055 speed: 46 interactions/s\n",
      "0.1556 perplexity: 89679.703 batch_acuracy: 0.045 speed: 46 interactions/s\n",
      "0.1667 perplexity: 80353.830 batch_acuracy: 0.558 speed: 46 interactions/s\n",
      "0.1778 perplexity: 68048.001 batch_acuracy: 0.195 speed: 46 interactions/s\n",
      "0.1889 perplexity: 59690.798 batch_acuracy: 0.207 speed: 46 interactions/s\n",
      "0.2000 perplexity: 56518.772 batch_acuracy: 0.070 speed: 46 interactions/s\n",
      "0.2111 perplexity: 55157.189 batch_acuracy: 0.123 speed: 46 interactions/s\n",
      "0.2222 perplexity: 53670.845 batch_acuracy: 0.060 speed: 46 interactions/s\n",
      "0.2333 perplexity: 49689.995 batch_acuracy: 0.140 speed: 46 interactions/s\n",
      "0.2444 perplexity: 46216.218 batch_acuracy: 0.087 speed: 46 interactions/s\n",
      "0.2556 perplexity: 43471.272 batch_acuracy: 0.095 speed: 46 interactions/s\n",
      "0.2667 perplexity: 38323.283 batch_acuracy: 0.165 speed: 46 interactions/s\n",
      "0.2778 perplexity: 36542.406 batch_acuracy: 0.160 speed: 47 interactions/s\n",
      "0.2889 perplexity: 35498.629 batch_acuracy: 0.185 speed: 46 interactions/s\n",
      "0.3000 perplexity: 34639.648 batch_acuracy: 0.140 speed: 47 interactions/s\n",
      "0.3111 perplexity: 34728.992 batch_acuracy: 0.095 speed: 47 interactions/s\n",
      "0.3222 perplexity: 35004.298 batch_acuracy: 0.127 speed: 47 interactions/s\n",
      "0.3333 perplexity: 35152.717 batch_acuracy: 0.127 speed: 47 interactions/s\n",
      "0.3444 perplexity: 35172.366 batch_acuracy: 0.112 speed: 47 interactions/s\n",
      "0.3556 perplexity: 34822.413 batch_acuracy: 0.162 speed: 47 interactions/s\n",
      "0.3667 perplexity: 33930.974 batch_acuracy: 0.110 speed: 47 interactions/s\n",
      "0.3778 perplexity: 33030.041 batch_acuracy: 0.147 speed: 47 interactions/s\n",
      "0.3889 perplexity: 32423.777 batch_acuracy: 0.153 speed: 47 interactions/s\n",
      "0.4000 perplexity: 32480.083 batch_acuracy: 0.097 speed: 47 interactions/s\n",
      "0.4111 perplexity: 32728.464 batch_acuracy: 0.120 speed: 47 interactions/s\n",
      "0.4222 perplexity: 33182.363 batch_acuracy: 0.093 speed: 47 interactions/s\n",
      "0.4333 perplexity: 33788.403 batch_acuracy: 0.165 speed: 47 interactions/s\n",
      "0.4444 perplexity: 34112.600 batch_acuracy: 0.120 speed: 47 interactions/s\n",
      "0.4556 perplexity: 34817.024 batch_acuracy: 0.070 speed: 47 interactions/s\n",
      "0.4667 perplexity: 35485.881 batch_acuracy: 0.102 speed: 47 interactions/s\n",
      "0.4778 perplexity: 36188.420 batch_acuracy: 0.078 speed: 47 interactions/s\n",
      "0.4889 perplexity: 36974.521 batch_acuracy: 0.145 speed: 46 interactions/s\n",
      "0.5000 perplexity: 37209.937 batch_acuracy: 0.108 speed: 46 interactions/s\n",
      "0.5111 perplexity: 37917.878 batch_acuracy: 0.080 speed: 46 interactions/s\n",
      "0.5222 perplexity: 38642.501 batch_acuracy: 0.083 speed: 46 interactions/s\n",
      "0.5333 perplexity: 39287.827 batch_acuracy: 0.052 speed: 46 interactions/s\n",
      "0.5444 perplexity: 39961.280 batch_acuracy: 0.068 speed: 46 interactions/s\n",
      "0.5556 perplexity: 40611.140 batch_acuracy: 0.123 speed: 46 interactions/s\n",
      "0.5667 perplexity: 41172.819 batch_acuracy: 0.102 speed: 46 interactions/s\n",
      "0.5778 perplexity: 41798.503 batch_acuracy: 0.045 speed: 46 interactions/s\n",
      "0.5889 perplexity: 42495.586 batch_acuracy: 0.058 speed: 46 interactions/s\n",
      "0.6000 perplexity: 43240.225 batch_acuracy: 0.070 speed: 46 interactions/s\n",
      "0.6111 perplexity: 43967.606 batch_acuracy: 0.072 speed: 46 interactions/s\n",
      "0.6222 perplexity: 44700.169 batch_acuracy: 0.058 speed: 46 interactions/s\n",
      "0.6333 perplexity: 45475.719 batch_acuracy: 0.065 speed: 46 interactions/s\n",
      "0.6444 perplexity: 46193.559 batch_acuracy: 0.072 speed: 46 interactions/s\n",
      "0.6556 perplexity: 46906.133 batch_acuracy: 0.052 speed: 46 interactions/s\n",
      "0.6667 perplexity: 47651.739 batch_acuracy: 0.052 speed: 46 interactions/s\n",
      "0.6778 perplexity: 48384.397 batch_acuracy: 0.050 speed: 46 interactions/s\n",
      "0.6889 perplexity: 49243.833 batch_acuracy: 0.040 speed: 46 interactions/s\n",
      "0.7000 perplexity: 50086.996 batch_acuracy: 0.043 speed: 46 interactions/s\n",
      "0.7111 perplexity: 50895.581 batch_acuracy: 0.052 speed: 46 interactions/s\n",
      "0.7222 perplexity: 51550.065 batch_acuracy: 0.060 speed: 46 interactions/s\n",
      "0.7333 perplexity: 52327.778 batch_acuracy: 0.043 speed: 46 interactions/s\n",
      "0.7444 perplexity: 53136.028 batch_acuracy: 0.043 speed: 46 interactions/s\n",
      "0.7556 perplexity: 53914.281 batch_acuracy: 0.045 speed: 46 interactions/s\n",
      "0.7667 perplexity: 54646.794 batch_acuracy: 0.040 speed: 46 interactions/s\n",
      "0.7778 perplexity: 55005.867 batch_acuracy: 0.070 speed: 46 interactions/s\n",
      "0.7889 perplexity: 55521.989 batch_acuracy: 0.060 speed: 46 interactions/s\n",
      "0.8000 perplexity: 55724.579 batch_acuracy: 0.040 speed: 46 interactions/s\n",
      "0.8111 perplexity: 56143.342 batch_acuracy: 0.052 speed: 46 interactions/s\n",
      "0.8222 perplexity: 56441.833 batch_acuracy: 0.072 speed: 46 interactions/s\n",
      "0.8333 perplexity: 56670.589 batch_acuracy: 0.045 speed: 46 interactions/s\n",
      "0.8444 perplexity: 57095.430 batch_acuracy: 0.027 speed: 46 interactions/s\n",
      "0.8556 perplexity: 57190.790 batch_acuracy: 0.125 speed: 46 interactions/s\n",
      "0.8667 perplexity: 57231.691 batch_acuracy: 0.068 speed: 46 interactions/s\n",
      "0.8778 perplexity: 57556.250 batch_acuracy: 0.038 speed: 46 interactions/s\n",
      "0.8889 perplexity: 57904.668 batch_acuracy: 0.050 speed: 46 interactions/s\n",
      "0.9000 perplexity: 58272.878 batch_acuracy: 0.030 speed: 46 interactions/s\n",
      "0.9111 perplexity: 58334.580 batch_acuracy: 0.030 speed: 46 interactions/s\n",
      "0.9222 perplexity: 58768.186 batch_acuracy: 0.032 speed: 46 interactions/s\n",
      "0.9333 perplexity: 59256.046 batch_acuracy: 0.050 speed: 46 interactions/s\n",
      "0.9444 perplexity: 59733.427 batch_acuracy: 0.020 speed: 46 interactions/s\n",
      "0.9556 perplexity: 60228.352 batch_acuracy: 0.035 speed: 46 interactions/s\n",
      "0.9667 perplexity: 60662.461 batch_acuracy: 0.045 speed: 46 interactions/s\n",
      "0.9778 perplexity: 61179.297 batch_acuracy: 0.027 speed: 46 interactions/s\n",
      "0.9889 perplexity: 61709.198 batch_acuracy: 0.032 speed: 45 interactions/s\n",
      "Epoch 6 Train Perplexity: 62206.937 Accuracy: 0.090\n",
      "Epoch 6 Validation Perplexity: 240471.459 Accuracy: 0.023\n",
      "0.0000 perplexity: 307975.707 batch_acuracy: 0.015 speed: 59 interactions/s\n",
      "0.0111 perplexity: 82324.813 batch_acuracy: 0.025 speed: 47 interactions/s\n",
      "0.0222 perplexity: 126743.350 batch_acuracy: 0.188 speed: 47 interactions/s\n",
      "0.0333 perplexity: 112100.870 batch_acuracy: 0.097 speed: 47 interactions/s\n",
      "0.0444 perplexity: 110769.382 batch_acuracy: 0.035 speed: 47 interactions/s\n",
      "0.0556 perplexity: 113631.380 batch_acuracy: 0.023 speed: 46 interactions/s\n",
      "0.0667 perplexity: 106445.120 batch_acuracy: 0.015 speed: 46 interactions/s\n",
      "0.0778 perplexity: 93613.632 batch_acuracy: 0.060 speed: 46 interactions/s\n",
      "0.0889 perplexity: 94107.244 batch_acuracy: 0.072 speed: 46 interactions/s\n",
      "0.1000 perplexity: 87142.976 batch_acuracy: 0.123 speed: 46 interactions/s\n",
      "0.1111 perplexity: 83185.160 batch_acuracy: 0.062 speed: 46 interactions/s\n",
      "0.1222 perplexity: 81133.945 batch_acuracy: 0.132 speed: 46 interactions/s\n",
      "0.1333 perplexity: 80963.900 batch_acuracy: 0.075 speed: 46 interactions/s\n",
      "0.1444 perplexity: 82203.153 batch_acuracy: 0.055 speed: 46 interactions/s\n",
      "0.1556 perplexity: 85224.457 batch_acuracy: 0.045 speed: 46 interactions/s\n",
      "0.1667 perplexity: 76437.464 batch_acuracy: 0.558 speed: 46 interactions/s\n",
      "0.1778 perplexity: 64735.456 batch_acuracy: 0.195 speed: 46 interactions/s\n",
      "0.1889 perplexity: 56735.224 batch_acuracy: 0.207 speed: 46 interactions/s\n",
      "0.2000 perplexity: 53643.442 batch_acuracy: 0.070 speed: 46 interactions/s\n",
      "0.2111 perplexity: 52233.738 batch_acuracy: 0.123 speed: 46 interactions/s\n",
      "0.2222 perplexity: 50729.667 batch_acuracy: 0.060 speed: 46 interactions/s\n",
      "0.2333 perplexity: 46844.645 batch_acuracy: 0.138 speed: 46 interactions/s\n",
      "0.2444 perplexity: 43487.674 batch_acuracy: 0.087 speed: 46 interactions/s\n",
      "0.2556 perplexity: 40842.863 batch_acuracy: 0.095 speed: 46 interactions/s\n",
      "0.2667 perplexity: 35997.349 batch_acuracy: 0.168 speed: 46 interactions/s\n",
      "0.2778 perplexity: 34320.129 batch_acuracy: 0.160 speed: 46 interactions/s\n",
      "0.2889 perplexity: 33335.777 batch_acuracy: 0.185 speed: 46 interactions/s\n",
      "0.3000 perplexity: 32530.637 batch_acuracy: 0.140 speed: 46 interactions/s\n",
      "0.3111 perplexity: 32618.169 batch_acuracy: 0.095 speed: 46 interactions/s\n",
      "0.3222 perplexity: 32870.574 batch_acuracy: 0.127 speed: 46 interactions/s\n",
      "0.3333 perplexity: 33005.511 batch_acuracy: 0.127 speed: 46 interactions/s\n",
      "0.3444 perplexity: 33023.358 batch_acuracy: 0.112 speed: 46 interactions/s\n",
      "0.3556 perplexity: 32691.901 batch_acuracy: 0.162 speed: 46 interactions/s\n",
      "0.3667 perplexity: 31849.592 batch_acuracy: 0.108 speed: 46 interactions/s\n",
      "0.3778 perplexity: 30991.245 batch_acuracy: 0.145 speed: 46 interactions/s\n",
      "0.3889 perplexity: 30413.706 batch_acuracy: 0.153 speed: 46 interactions/s\n",
      "0.4000 perplexity: 30456.341 batch_acuracy: 0.097 speed: 46 interactions/s\n",
      "0.4111 perplexity: 30680.582 batch_acuracy: 0.120 speed: 46 interactions/s\n",
      "0.4222 perplexity: 31106.576 batch_acuracy: 0.093 speed: 46 interactions/s\n",
      "0.4333 perplexity: 31669.766 batch_acuracy: 0.165 speed: 46 interactions/s\n",
      "0.4444 perplexity: 31976.512 batch_acuracy: 0.120 speed: 46 interactions/s\n",
      "0.4556 perplexity: 32641.640 batch_acuracy: 0.070 speed: 46 interactions/s\n",
      "0.4667 perplexity: 33274.905 batch_acuracy: 0.102 speed: 46 interactions/s\n",
      "0.4778 perplexity: 33940.694 batch_acuracy: 0.078 speed: 46 interactions/s\n",
      "0.4889 perplexity: 34682.224 batch_acuracy: 0.145 speed: 46 interactions/s\n",
      "0.5000 perplexity: 34909.176 batch_acuracy: 0.108 speed: 46 interactions/s\n",
      "0.5111 perplexity: 35578.884 batch_acuracy: 0.080 speed: 46 interactions/s\n",
      "0.5222 perplexity: 36265.927 batch_acuracy: 0.083 speed: 46 interactions/s\n",
      "0.5333 perplexity: 36877.772 batch_acuracy: 0.052 speed: 46 interactions/s\n",
      "0.5444 perplexity: 37518.305 batch_acuracy: 0.068 speed: 46 interactions/s\n",
      "0.5556 perplexity: 38137.975 batch_acuracy: 0.123 speed: 46 interactions/s\n",
      "0.5667 perplexity: 38673.706 batch_acuracy: 0.102 speed: 46 interactions/s\n",
      "0.5778 perplexity: 39265.151 batch_acuracy: 0.045 speed: 46 interactions/s\n",
      "0.5889 perplexity: 39929.773 batch_acuracy: 0.058 speed: 46 interactions/s\n",
      "0.6000 perplexity: 40637.477 batch_acuracy: 0.070 speed: 46 interactions/s\n",
      "0.6111 perplexity: 41328.699 batch_acuracy: 0.072 speed: 46 interactions/s\n",
      "0.6222 perplexity: 42026.576 batch_acuracy: 0.058 speed: 46 interactions/s\n",
      "0.6333 perplexity: 42763.950 batch_acuracy: 0.065 speed: 46 interactions/s\n",
      "0.6444 perplexity: 43447.503 batch_acuracy: 0.072 speed: 46 interactions/s\n",
      "0.6556 perplexity: 44123.869 batch_acuracy: 0.052 speed: 46 interactions/s\n",
      "0.6667 perplexity: 44834.904 batch_acuracy: 0.052 speed: 46 interactions/s\n",
      "0.6778 perplexity: 45528.275 batch_acuracy: 0.050 speed: 46 interactions/s\n",
      "0.6889 perplexity: 46345.644 batch_acuracy: 0.040 speed: 46 interactions/s\n",
      "0.7000 perplexity: 47153.606 batch_acuracy: 0.043 speed: 46 interactions/s\n",
      "0.7111 perplexity: 47927.214 batch_acuracy: 0.052 speed: 46 interactions/s\n",
      "0.7222 perplexity: 48554.666 batch_acuracy: 0.060 speed: 46 interactions/s\n",
      "0.7333 perplexity: 49299.926 batch_acuracy: 0.043 speed: 46 interactions/s\n",
      "0.7444 perplexity: 50074.183 batch_acuracy: 0.043 speed: 46 interactions/s\n",
      "0.7556 perplexity: 50823.051 batch_acuracy: 0.045 speed: 46 interactions/s\n",
      "0.7667 perplexity: 51525.551 batch_acuracy: 0.040 speed: 46 interactions/s\n",
      "0.7778 perplexity: 51876.263 batch_acuracy: 0.070 speed: 46 interactions/s\n",
      "0.7889 perplexity: 52369.668 batch_acuracy: 0.060 speed: 46 interactions/s\n",
      "0.8000 perplexity: 52569.377 batch_acuracy: 0.040 speed: 46 interactions/s\n",
      "0.8111 perplexity: 52974.157 batch_acuracy: 0.052 speed: 46 interactions/s\n",
      "0.8222 perplexity: 53258.374 batch_acuracy: 0.072 speed: 46 interactions/s\n",
      "0.8333 perplexity: 53475.565 batch_acuracy: 0.045 speed: 46 interactions/s\n",
      "0.8444 perplexity: 53882.287 batch_acuracy: 0.027 speed: 46 interactions/s\n",
      "0.8556 perplexity: 53974.708 batch_acuracy: 0.125 speed: 46 interactions/s\n",
      "0.8667 perplexity: 54016.000 batch_acuracy: 0.068 speed: 46 interactions/s\n",
      "0.8778 perplexity: 54322.248 batch_acuracy: 0.040 speed: 46 interactions/s\n",
      "0.8889 perplexity: 54647.907 batch_acuracy: 0.052 speed: 46 interactions/s\n",
      "0.9000 perplexity: 54999.262 batch_acuracy: 0.030 speed: 46 interactions/s\n",
      "0.9111 perplexity: 55059.897 batch_acuracy: 0.030 speed: 46 interactions/s\n",
      "0.9222 perplexity: 55476.396 batch_acuracy: 0.043 speed: 46 interactions/s\n",
      "0.9333 perplexity: 55942.773 batch_acuracy: 0.050 speed: 46 interactions/s\n",
      "0.9444 perplexity: 56402.165 batch_acuracy: 0.020 speed: 46 interactions/s\n",
      "0.9556 perplexity: 56877.927 batch_acuracy: 0.035 speed: 46 interactions/s\n",
      "0.9667 perplexity: 57295.446 batch_acuracy: 0.045 speed: 46 interactions/s\n",
      "0.9778 perplexity: 57791.709 batch_acuracy: 0.027 speed: 46 interactions/s\n",
      "0.9889 perplexity: 58299.577 batch_acuracy: 0.032 speed: 46 interactions/s\n",
      "Epoch 7 Train Perplexity: 58778.614 Accuracy: 0.090\n",
      "Epoch 7 Validation Perplexity: 233399.321 Accuracy: 0.023\n",
      "0.0000 perplexity: 298913.008 batch_acuracy: 0.015 speed: 48 interactions/s\n",
      "0.0111 perplexity: 79554.796 batch_acuracy: 0.025 speed: 47 interactions/s\n",
      "0.0222 perplexity: 122858.748 batch_acuracy: 0.188 speed: 47 interactions/s\n",
      "0.0333 perplexity: 108512.803 batch_acuracy: 0.097 speed: 46 interactions/s\n",
      "0.0444 perplexity: 106572.505 batch_acuracy: 0.035 speed: 46 interactions/s\n",
      "0.0556 perplexity: 109472.288 batch_acuracy: 0.023 speed: 46 interactions/s\n",
      "0.0667 perplexity: 102143.300 batch_acuracy: 0.015 speed: 47 interactions/s\n",
      "0.0778 perplexity: 89367.514 batch_acuracy: 0.060 speed: 47 interactions/s\n",
      "0.0889 perplexity: 89820.779 batch_acuracy: 0.070 speed: 47 interactions/s\n",
      "0.1000 perplexity: 83066.606 batch_acuracy: 0.123 speed: 47 interactions/s\n",
      "0.1111 perplexity: 79295.245 batch_acuracy: 0.062 speed: 47 interactions/s\n",
      "0.1222 perplexity: 77391.198 batch_acuracy: 0.132 speed: 47 interactions/s\n",
      "0.1333 perplexity: 77215.771 batch_acuracy: 0.075 speed: 47 interactions/s\n",
      "0.1444 perplexity: 78360.362 batch_acuracy: 0.055 speed: 47 interactions/s\n",
      "0.1556 perplexity: 81312.033 batch_acuracy: 0.045 speed: 47 interactions/s\n",
      "0.1667 perplexity: 72999.304 batch_acuracy: 0.558 speed: 47 interactions/s\n",
      "0.1778 perplexity: 61841.197 batch_acuracy: 0.195 speed: 47 interactions/s\n",
      "0.1889 perplexity: 54163.963 batch_acuracy: 0.207 speed: 47 interactions/s\n",
      "0.2000 perplexity: 51145.158 batch_acuracy: 0.070 speed: 47 interactions/s\n",
      "0.2111 perplexity: 49689.405 batch_acuracy: 0.123 speed: 47 interactions/s\n",
      "0.2222 perplexity: 48161.247 batch_acuracy: 0.060 speed: 47 interactions/s\n",
      "0.2333 perplexity: 44364.820 batch_acuracy: 0.135 speed: 47 interactions/s\n",
      "0.2444 perplexity: 41121.126 batch_acuracy: 0.087 speed: 47 interactions/s\n",
      "0.2556 perplexity: 38573.171 batch_acuracy: 0.100 speed: 47 interactions/s\n",
      "0.2667 perplexity: 33987.975 batch_acuracy: 0.175 speed: 47 interactions/s\n",
      "0.2778 perplexity: 32396.642 batch_acuracy: 0.160 speed: 47 interactions/s\n",
      "0.2889 perplexity: 31463.652 batch_acuracy: 0.185 speed: 47 interactions/s\n",
      "0.3000 perplexity: 30702.560 batch_acuracy: 0.140 speed: 47 interactions/s\n",
      "0.3111 perplexity: 30786.776 batch_acuracy: 0.095 speed: 47 interactions/s\n",
      "0.3222 perplexity: 31016.984 batch_acuracy: 0.127 speed: 47 interactions/s\n",
      "0.3333 perplexity: 31139.612 batch_acuracy: 0.127 speed: 47 interactions/s\n",
      "0.3444 perplexity: 31154.312 batch_acuracy: 0.112 speed: 47 interactions/s\n",
      "0.3556 perplexity: 30837.774 batch_acuracy: 0.162 speed: 47 interactions/s\n",
      "0.3667 perplexity: 30039.272 batch_acuracy: 0.105 speed: 47 interactions/s\n",
      "0.3778 perplexity: 29219.640 batch_acuracy: 0.145 speed: 47 interactions/s\n",
      "0.3889 perplexity: 28669.173 batch_acuracy: 0.153 speed: 47 interactions/s\n",
      "0.4000 perplexity: 28702.141 batch_acuracy: 0.097 speed: 47 interactions/s\n",
      "0.4111 perplexity: 28907.722 batch_acuracy: 0.120 speed: 47 interactions/s\n",
      "0.4222 perplexity: 29311.326 batch_acuracy: 0.093 speed: 47 interactions/s\n",
      "0.4333 perplexity: 29837.438 batch_acuracy: 0.165 speed: 47 interactions/s\n",
      "0.4444 perplexity: 30127.363 batch_acuracy: 0.120 speed: 47 interactions/s\n",
      "0.4556 perplexity: 30757.795 batch_acuracy: 0.070 speed: 47 interactions/s\n",
      "0.4667 perplexity: 31359.998 batch_acuracy: 0.102 speed: 47 interactions/s\n",
      "0.4778 perplexity: 31993.545 batch_acuracy: 0.078 speed: 47 interactions/s\n",
      "0.4889 perplexity: 32697.011 batch_acuracy: 0.145 speed: 47 interactions/s\n",
      "0.5000 perplexity: 32917.100 batch_acuracy: 0.108 speed: 47 interactions/s\n",
      "0.5111 perplexity: 33555.136 batch_acuracy: 0.080 speed: 47 interactions/s\n",
      "0.5222 perplexity: 34210.191 batch_acuracy: 0.083 speed: 47 interactions/s\n",
      "0.5333 perplexity: 34793.157 batch_acuracy: 0.052 speed: 47 interactions/s\n",
      "0.5444 perplexity: 35404.977 batch_acuracy: 0.068 speed: 47 interactions/s\n",
      "0.5556 perplexity: 35998.080 batch_acuracy: 0.123 speed: 47 interactions/s\n",
      "0.5667 perplexity: 36510.995 batch_acuracy: 0.102 speed: 47 interactions/s\n",
      "0.5778 perplexity: 37072.886 batch_acuracy: 0.045 speed: 47 interactions/s\n",
      "0.5889 perplexity: 37709.051 batch_acuracy: 0.058 speed: 47 interactions/s\n",
      "0.6000 perplexity: 38383.703 batch_acuracy: 0.070 speed: 47 interactions/s\n",
      "0.6111 perplexity: 39042.081 batch_acuracy: 0.072 speed: 47 interactions/s\n",
      "0.6222 perplexity: 39708.658 batch_acuracy: 0.058 speed: 47 interactions/s\n",
      "0.6333 perplexity: 40412.437 batch_acuracy: 0.065 speed: 47 interactions/s\n",
      "0.6444 perplexity: 41065.488 batch_acuracy: 0.072 speed: 47 interactions/s\n",
      "0.6556 perplexity: 41710.231 batch_acuracy: 0.052 speed: 47 interactions/s\n",
      "0.6667 perplexity: 42391.051 batch_acuracy: 0.052 speed: 47 interactions/s\n",
      "0.6778 perplexity: 43049.733 batch_acuracy: 0.050 speed: 47 interactions/s\n",
      "0.6889 perplexity: 43829.117 batch_acuracy: 0.040 speed: 47 interactions/s\n",
      "0.7000 perplexity: 44604.604 batch_acuracy: 0.043 speed: 47 interactions/s\n",
      "0.7111 perplexity: 45346.024 batch_acuracy: 0.052 speed: 47 interactions/s\n",
      "0.7222 perplexity: 45948.504 batch_acuracy: 0.060 speed: 47 interactions/s\n",
      "0.7333 perplexity: 46664.319 batch_acuracy: 0.043 speed: 47 interactions/s\n",
      "0.7444 perplexity: 47407.591 batch_acuracy: 0.043 speed: 47 interactions/s\n",
      "0.7556 perplexity: 48129.147 batch_acuracy: 0.045 speed: 47 interactions/s\n",
      "0.7667 perplexity: 48803.934 batch_acuracy: 0.040 speed: 47 interactions/s\n",
      "0.7778 perplexity: 49146.552 batch_acuracy: 0.070 speed: 47 interactions/s\n",
      "0.7889 perplexity: 49617.285 batch_acuracy: 0.060 speed: 47 interactions/s\n",
      "0.8000 perplexity: 49809.021 batch_acuracy: 0.040 speed: 47 interactions/s\n",
      "0.8111 perplexity: 50199.609 batch_acuracy: 0.052 speed: 47 interactions/s\n",
      "0.8222 perplexity: 50470.928 batch_acuracy: 0.072 speed: 47 interactions/s\n",
      "0.8333 perplexity: 50676.021 batch_acuracy: 0.045 speed: 47 interactions/s\n",
      "0.8444 perplexity: 51065.883 batch_acuracy: 0.027 speed: 47 interactions/s\n",
      "0.8556 perplexity: 51155.409 batch_acuracy: 0.125 speed: 47 interactions/s\n",
      "0.8667 perplexity: 51197.014 batch_acuracy: 0.068 speed: 47 interactions/s\n",
      "0.8778 perplexity: 51487.349 batch_acuracy: 0.038 speed: 47 interactions/s\n",
      "0.8889 perplexity: 51793.533 batch_acuracy: 0.050 speed: 47 interactions/s\n",
      "0.9000 perplexity: 52128.788 batch_acuracy: 0.030 speed: 47 interactions/s\n",
      "0.9111 perplexity: 52187.070 batch_acuracy: 0.030 speed: 47 interactions/s\n",
      "0.9222 perplexity: 52588.904 batch_acuracy: 0.035 speed: 47 interactions/s\n",
      "0.9333 perplexity: 53035.991 batch_acuracy: 0.050 speed: 47 interactions/s\n",
      "0.9444 perplexity: 53479.822 batch_acuracy: 0.020 speed: 47 interactions/s\n",
      "0.9556 perplexity: 53937.756 batch_acuracy: 0.035 speed: 47 interactions/s\n",
      "0.9667 perplexity: 54340.498 batch_acuracy: 0.045 speed: 47 interactions/s\n",
      "0.9778 perplexity: 54818.016 batch_acuracy: 0.027 speed: 47 interactions/s\n",
      "0.9889 perplexity: 55305.302 batch_acuracy: 0.032 speed: 47 interactions/s\n",
      "Epoch 8 Train Perplexity: 55766.032 Accuracy: 0.090\n",
      "Epoch 8 Validation Perplexity: 226995.354 Accuracy: 0.023\n",
      "0.0000 perplexity: 289792.689 batch_acuracy: 0.015 speed: 59 interactions/s\n",
      "0.0111 perplexity: 76582.801 batch_acuracy: 0.025 speed: 47 interactions/s\n",
      "0.0222 perplexity: 119092.812 batch_acuracy: 0.188 speed: 48 interactions/s\n",
      "0.0333 perplexity: 104995.648 batch_acuracy: 0.097 speed: 47 interactions/s\n",
      "0.0444 perplexity: 102070.761 batch_acuracy: 0.035 speed: 46 interactions/s\n",
      "0.0556 perplexity: 105035.332 batch_acuracy: 0.023 speed: 47 interactions/s\n",
      "0.0667 perplexity: 97713.547 batch_acuracy: 0.013 speed: 46 interactions/s\n",
      "0.0778 perplexity: 85205.459 batch_acuracy: 0.060 speed: 46 interactions/s\n",
      "0.0889 perplexity: 85700.388 batch_acuracy: 0.072 speed: 46 interactions/s\n",
      "0.1000 perplexity: 79194.197 batch_acuracy: 0.123 speed: 46 interactions/s\n",
      "0.1111 perplexity: 75627.530 batch_acuracy: 0.062 speed: 46 interactions/s\n",
      "0.1222 perplexity: 73890.773 batch_acuracy: 0.132 speed: 46 interactions/s\n",
      "0.1333 perplexity: 73718.435 batch_acuracy: 0.075 speed: 46 interactions/s\n",
      "0.1444 perplexity: 74787.884 batch_acuracy: 0.055 speed: 46 interactions/s\n",
      "0.1556 perplexity: 77680.733 batch_acuracy: 0.045 speed: 46 interactions/s\n",
      "0.1667 perplexity: 69819.154 batch_acuracy: 0.558 speed: 46 interactions/s\n",
      "0.1778 perplexity: 59181.942 batch_acuracy: 0.195 speed: 46 interactions/s\n",
      "0.1889 perplexity: 51828.190 batch_acuracy: 0.207 speed: 46 interactions/s\n",
      "0.2000 perplexity: 48898.921 batch_acuracy: 0.072 speed: 46 interactions/s\n",
      "0.2111 perplexity: 47412.906 batch_acuracy: 0.123 speed: 46 interactions/s\n",
      "0.2222 perplexity: 45878.717 batch_acuracy: 0.060 speed: 46 interactions/s\n",
      "0.2333 perplexity: 42181.669 batch_acuracy: 0.130 speed: 46 interactions/s\n",
      "0.2444 perplexity: 39055.576 batch_acuracy: 0.087 speed: 46 interactions/s\n",
      "0.2556 perplexity: 36606.380 batch_acuracy: 0.093 speed: 46 interactions/s\n",
      "0.2667 perplexity: 32249.609 batch_acuracy: 0.175 speed: 46 interactions/s\n",
      "0.2778 perplexity: 30734.373 batch_acuracy: 0.153 speed: 46 interactions/s\n",
      "0.2889 perplexity: 29846.653 batch_acuracy: 0.185 speed: 46 interactions/s\n",
      "0.3000 perplexity: 29121.317 batch_acuracy: 0.140 speed: 46 interactions/s\n",
      "0.3111 perplexity: 29201.201 batch_acuracy: 0.095 speed: 46 interactions/s\n",
      "0.3222 perplexity: 29411.536 batch_acuracy: 0.127 speed: 46 interactions/s\n",
      "0.3333 perplexity: 29521.333 batch_acuracy: 0.127 speed: 46 interactions/s\n",
      "0.3444 perplexity: 29529.143 batch_acuracy: 0.112 speed: 46 interactions/s\n",
      "0.3556 perplexity: 29222.944 batch_acuracy: 0.162 speed: 46 interactions/s\n",
      "0.3667 perplexity: 28462.670 batch_acuracy: 0.110 speed: 46 interactions/s\n",
      "0.3778 perplexity: 27676.866 batch_acuracy: 0.145 speed: 46 interactions/s\n",
      "0.3889 perplexity: 27150.431 batch_acuracy: 0.153 speed: 46 interactions/s\n",
      "0.4000 perplexity: 27175.298 batch_acuracy: 0.095 speed: 46 interactions/s\n",
      "0.4111 perplexity: 27364.347 batch_acuracy: 0.120 speed: 46 interactions/s\n",
      "0.4222 perplexity: 27748.160 batch_acuracy: 0.093 speed: 46 interactions/s\n",
      "0.4333 perplexity: 28243.448 batch_acuracy: 0.165 speed: 46 interactions/s\n",
      "0.4444 perplexity: 28518.817 batch_acuracy: 0.120 speed: 46 interactions/s\n",
      "0.4556 perplexity: 29118.602 batch_acuracy: 0.070 speed: 46 interactions/s\n",
      "0.4667 perplexity: 29692.837 batch_acuracy: 0.102 speed: 46 interactions/s\n",
      "0.4778 perplexity: 30297.148 batch_acuracy: 0.078 speed: 46 interactions/s\n",
      "0.4889 perplexity: 30966.097 batch_acuracy: 0.145 speed: 46 interactions/s\n",
      "0.5000 perplexity: 31178.870 batch_acuracy: 0.108 speed: 46 interactions/s\n",
      "0.5111 perplexity: 31788.470 batch_acuracy: 0.080 speed: 46 interactions/s\n",
      "0.5222 perplexity: 32415.261 batch_acuracy: 0.083 speed: 46 interactions/s\n",
      "0.5333 perplexity: 32972.420 batch_acuracy: 0.052 speed: 46 interactions/s\n",
      "0.5444 perplexity: 33559.236 batch_acuracy: 0.068 speed: 46 interactions/s\n",
      "0.5556 perplexity: 34128.960 batch_acuracy: 0.123 speed: 46 interactions/s\n",
      "0.5667 perplexity: 34622.089 batch_acuracy: 0.102 speed: 46 interactions/s\n",
      "0.5778 perplexity: 35158.239 batch_acuracy: 0.045 speed: 46 interactions/s\n",
      "0.5889 perplexity: 35769.239 batch_acuracy: 0.058 speed: 46 interactions/s\n",
      "0.6000 perplexity: 36414.757 batch_acuracy: 0.070 speed: 46 interactions/s\n",
      "0.6111 perplexity: 37043.461 batch_acuracy: 0.072 speed: 46 interactions/s\n",
      "0.6222 perplexity: 37681.837 batch_acuracy: 0.058 speed: 46 interactions/s\n",
      "0.6333 perplexity: 38356.389 batch_acuracy: 0.065 speed: 46 interactions/s\n",
      "0.6444 perplexity: 38982.168 batch_acuracy: 0.072 speed: 46 interactions/s\n",
      "0.6556 perplexity: 39599.073 batch_acuracy: 0.052 speed: 46 interactions/s\n",
      "0.6667 perplexity: 40253.125 batch_acuracy: 0.052 speed: 46 interactions/s\n",
      "0.6778 perplexity: 40881.246 batch_acuracy: 0.050 speed: 46 interactions/s\n",
      "0.6889 perplexity: 41626.300 batch_acuracy: 0.040 speed: 46 interactions/s\n",
      "0.7000 perplexity: 42371.686 batch_acuracy: 0.043 speed: 46 interactions/s\n",
      "0.7111 perplexity: 43083.347 batch_acuracy: 0.052 speed: 46 interactions/s\n",
      "0.7222 perplexity: 43662.697 batch_acuracy: 0.060 speed: 46 interactions/s\n",
      "0.7333 perplexity: 44351.659 batch_acuracy: 0.043 speed: 46 interactions/s\n",
      "0.7444 perplexity: 45066.755 batch_acuracy: 0.043 speed: 46 interactions/s\n",
      "0.7556 perplexity: 45763.241 batch_acuracy: 0.045 speed: 46 interactions/s\n",
      "0.7667 perplexity: 46412.662 batch_acuracy: 0.040 speed: 46 interactions/s\n",
      "0.7778 perplexity: 46747.510 batch_acuracy: 0.070 speed: 46 interactions/s\n",
      "0.7889 perplexity: 47197.155 batch_acuracy: 0.060 speed: 46 interactions/s\n",
      "0.8000 perplexity: 47379.962 batch_acuracy: 0.043 speed: 46 interactions/s\n",
      "0.8111 perplexity: 47757.224 batch_acuracy: 0.052 speed: 46 interactions/s\n",
      "0.8222 perplexity: 48017.003 batch_acuracy: 0.072 speed: 46 interactions/s\n",
      "0.8333 perplexity: 48211.107 batch_acuracy: 0.045 speed: 46 interactions/s\n",
      "0.8444 perplexity: 48585.596 batch_acuracy: 0.027 speed: 46 interactions/s\n",
      "0.8556 perplexity: 48671.911 batch_acuracy: 0.125 speed: 46 interactions/s\n",
      "0.8667 perplexity: 48713.374 batch_acuracy: 0.068 speed: 46 interactions/s\n",
      "0.8778 perplexity: 48989.351 batch_acuracy: 0.045 speed: 46 interactions/s\n",
      "0.8889 perplexity: 49278.400 batch_acuracy: 0.050 speed: 46 interactions/s\n",
      "0.9000 perplexity: 49598.308 batch_acuracy: 0.035 speed: 46 interactions/s\n",
      "0.9111 perplexity: 49653.024 batch_acuracy: 0.030 speed: 46 interactions/s\n",
      "0.9222 perplexity: 50041.340 batch_acuracy: 0.035 speed: 46 interactions/s\n",
      "0.9333 perplexity: 50470.998 batch_acuracy: 0.050 speed: 46 interactions/s\n",
      "0.9444 perplexity: 50900.208 batch_acuracy: 0.020 speed: 46 interactions/s\n",
      "0.9556 perplexity: 51342.028 batch_acuracy: 0.035 speed: 46 interactions/s\n",
      "0.9667 perplexity: 51731.419 batch_acuracy: 0.045 speed: 46 interactions/s\n",
      "0.9778 perplexity: 52191.763 batch_acuracy: 0.027 speed: 46 interactions/s\n",
      "0.9889 perplexity: 52660.708 batch_acuracy: 0.032 speed: 46 interactions/s\n",
      "Epoch 9 Train Perplexity: 53104.560 Accuracy: 0.090\n",
      "Epoch 9 Validation Perplexity: 221133.187 Accuracy: 0.023\n",
      "0.0000 perplexity: 280970.795 batch_acuracy: 0.015 speed: 55 interactions/s\n",
      "0.0111 perplexity: 73685.815 batch_acuracy: 0.025 speed: 45 interactions/s\n",
      "0.0222 perplexity: 115504.497 batch_acuracy: 0.188 speed: 46 interactions/s\n",
      "0.0333 perplexity: 101855.939 batch_acuracy: 0.097 speed: 45 interactions/s\n",
      "0.0444 perplexity: 98045.162 batch_acuracy: 0.035 speed: 45 interactions/s\n",
      "0.0556 perplexity: 100925.707 batch_acuracy: 0.023 speed: 45 interactions/s\n",
      "0.0667 perplexity: 93504.132 batch_acuracy: 0.025 speed: 45 interactions/s\n",
      "0.0778 perplexity: 81337.424 batch_acuracy: 0.060 speed: 45 interactions/s\n",
      "0.0889 perplexity: 81902.358 batch_acuracy: 0.070 speed: 45 interactions/s\n",
      "0.1000 perplexity: 75609.441 batch_acuracy: 0.123 speed: 45 interactions/s\n",
      "0.1111 perplexity: 72231.179 batch_acuracy: 0.062 speed: 45 interactions/s\n",
      "0.1222 perplexity: 70637.632 batch_acuracy: 0.132 speed: 45 interactions/s\n",
      "0.1333 perplexity: 70470.247 batch_acuracy: 0.075 speed: 45 interactions/s\n",
      "0.1444 perplexity: 71469.696 batch_acuracy: 0.055 speed: 45 interactions/s\n",
      "0.1556 perplexity: 74307.516 batch_acuracy: 0.045 speed: 45 interactions/s\n",
      "0.1667 perplexity: 66861.330 batch_acuracy: 0.558 speed: 45 interactions/s\n",
      "0.1778 perplexity: 56716.530 batch_acuracy: 0.195 speed: 45 interactions/s\n",
      "0.1889 perplexity: 49679.938 batch_acuracy: 0.207 speed: 45 interactions/s\n",
      "0.2000 perplexity: 46846.416 batch_acuracy: 0.070 speed: 45 interactions/s\n",
      "0.2111 perplexity: 45336.359 batch_acuracy: 0.123 speed: 45 interactions/s\n",
      "0.2222 perplexity: 43812.410 batch_acuracy: 0.060 speed: 45 interactions/s\n",
      "0.2333 perplexity: 40220.349 batch_acuracy: 0.127 speed: 45 interactions/s\n",
      "0.2444 perplexity: 37211.381 batch_acuracy: 0.087 speed: 45 interactions/s\n",
      "0.2556 perplexity: 34859.984 batch_acuracy: 0.097 speed: 45 interactions/s\n",
      "0.2667 perplexity: 30710.397 batch_acuracy: 0.162 speed: 45 interactions/s\n",
      "0.2778 perplexity: 29265.785 batch_acuracy: 0.155 speed: 45 interactions/s\n",
      "0.2889 perplexity: 28420.730 batch_acuracy: 0.185 speed: 45 interactions/s\n",
      "0.3000 perplexity: 27726.061 batch_acuracy: 0.140 speed: 45 interactions/s\n",
      "0.3111 perplexity: 27802.424 batch_acuracy: 0.095 speed: 45 interactions/s\n",
      "0.3222 perplexity: 27996.218 batch_acuracy: 0.127 speed: 45 interactions/s\n",
      "0.3333 perplexity: 28094.705 batch_acuracy: 0.127 speed: 45 interactions/s\n",
      "0.3444 perplexity: 28094.787 batch_acuracy: 0.112 speed: 45 interactions/s\n",
      "0.3556 perplexity: 27796.588 batch_acuracy: 0.162 speed: 45 interactions/s\n",
      "0.3667 perplexity: 27069.767 batch_acuracy: 0.108 speed: 46 interactions/s\n",
      "0.3778 perplexity: 26314.217 batch_acuracy: 0.147 speed: 46 interactions/s\n",
      "0.3889 perplexity: 25809.306 batch_acuracy: 0.153 speed: 46 interactions/s\n",
      "0.4000 perplexity: 25827.235 batch_acuracy: 0.095 speed: 46 interactions/s\n",
      "0.4111 perplexity: 26000.611 batch_acuracy: 0.120 speed: 46 interactions/s\n",
      "0.4222 perplexity: 26366.093 batch_acuracy: 0.093 speed: 46 interactions/s\n",
      "0.4333 perplexity: 26834.479 batch_acuracy: 0.165 speed: 46 interactions/s\n",
      "0.4444 perplexity: 27096.286 batch_acuracy: 0.120 speed: 46 interactions/s\n",
      "0.4556 perplexity: 27668.119 batch_acuracy: 0.070 speed: 46 interactions/s\n",
      "0.4667 perplexity: 28217.224 batch_acuracy: 0.102 speed: 46 interactions/s\n",
      "0.4778 perplexity: 28794.291 batch_acuracy: 0.078 speed: 46 interactions/s\n",
      "0.4889 perplexity: 29430.974 batch_acuracy: 0.145 speed: 46 interactions/s\n",
      "0.5000 perplexity: 29635.824 batch_acuracy: 0.108 speed: 45 interactions/s\n",
      "0.5111 perplexity: 30218.409 batch_acuracy: 0.080 speed: 45 interactions/s\n",
      "0.5222 perplexity: 30818.982 batch_acuracy: 0.083 speed: 45 interactions/s\n",
      "0.5333 perplexity: 31352.047 batch_acuracy: 0.052 speed: 46 interactions/s\n",
      "0.5444 perplexity: 31915.821 batch_acuracy: 0.068 speed: 45 interactions/s\n",
      "0.5556 perplexity: 32463.996 batch_acuracy: 0.123 speed: 45 interactions/s\n",
      "0.5667 perplexity: 32938.895 batch_acuracy: 0.102 speed: 45 interactions/s\n",
      "0.5778 perplexity: 33452.277 batch_acuracy: 0.045 speed: 45 interactions/s\n",
      "0.5889 perplexity: 34040.762 batch_acuracy: 0.058 speed: 45 interactions/s\n",
      "0.6000 perplexity: 34660.651 batch_acuracy: 0.070 speed: 45 interactions/s\n",
      "0.6111 perplexity: 35262.676 batch_acuracy: 0.072 speed: 45 interactions/s\n",
      "0.6222 perplexity: 35875.524 batch_acuracy: 0.058 speed: 45 interactions/s\n",
      "0.6333 perplexity: 36524.211 batch_acuracy: 0.065 speed: 45 interactions/s\n",
      "0.6444 perplexity: 37125.418 batch_acuracy: 0.072 speed: 45 interactions/s\n",
      "0.6556 perplexity: 37717.407 batch_acuracy: 0.052 speed: 45 interactions/s\n",
      "0.6667 perplexity: 38347.434 batch_acuracy: 0.052 speed: 46 interactions/s\n",
      "0.6778 perplexity: 38948.465 batch_acuracy: 0.050 speed: 46 interactions/s\n",
      "0.6889 perplexity: 39662.402 batch_acuracy: 0.040 speed: 46 interactions/s\n",
      "0.7000 perplexity: 40380.046 batch_acuracy: 0.043 speed: 46 interactions/s\n",
      "0.7111 perplexity: 41064.367 batch_acuracy: 0.052 speed: 46 interactions/s\n",
      "0.7222 perplexity: 41622.443 batch_acuracy: 0.060 speed: 46 interactions/s\n",
      "0.7333 perplexity: 42286.734 batch_acuracy: 0.043 speed: 46 interactions/s\n",
      "0.7444 perplexity: 42976.160 batch_acuracy: 0.043 speed: 46 interactions/s\n",
      "0.7556 perplexity: 43649.546 batch_acuracy: 0.045 speed: 46 interactions/s\n",
      "0.7667 perplexity: 44275.771 batch_acuracy: 0.040 speed: 46 interactions/s\n",
      "0.7778 perplexity: 44603.251 batch_acuracy: 0.070 speed: 46 interactions/s\n",
      "0.7889 perplexity: 45033.077 batch_acuracy: 0.060 speed: 46 interactions/s\n",
      "0.8000 perplexity: 45205.975 batch_acuracy: 0.040 speed: 46 interactions/s\n",
      "0.8111 perplexity: 45571.152 batch_acuracy: 0.052 speed: 46 interactions/s\n",
      "0.8222 perplexity: 45820.961 batch_acuracy: 0.072 speed: 46 interactions/s\n",
      "0.8333 perplexity: 46005.541 batch_acuracy: 0.045 speed: 46 interactions/s\n",
      "0.8444 perplexity: 46366.285 batch_acuracy: 0.027 speed: 45 interactions/s\n",
      "0.8556 perplexity: 46449.613 batch_acuracy: 0.127 speed: 45 interactions/s\n",
      "0.8667 perplexity: 46490.381 batch_acuracy: 0.068 speed: 45 interactions/s\n",
      "0.8778 perplexity: 46753.170 batch_acuracy: 0.043 speed: 45 interactions/s\n",
      "0.8889 perplexity: 47026.589 batch_acuracy: 0.050 speed: 45 interactions/s\n",
      "0.9000 perplexity: 47332.219 batch_acuracy: 0.030 speed: 45 interactions/s\n",
      "0.9111 perplexity: 47382.799 batch_acuracy: 0.027 speed: 45 interactions/s\n",
      "0.9222 perplexity: 47758.510 batch_acuracy: 0.035 speed: 45 interactions/s\n",
      "0.9333 perplexity: 48172.180 batch_acuracy: 0.050 speed: 45 interactions/s\n",
      "0.9444 perplexity: 48587.221 batch_acuracy: 0.020 speed: 45 interactions/s\n",
      "0.9556 perplexity: 49014.359 batch_acuracy: 0.035 speed: 45 interactions/s\n",
      "0.9667 perplexity: 49391.541 batch_acuracy: 0.045 speed: 45 interactions/s\n",
      "0.9778 perplexity: 49835.979 batch_acuracy: 0.027 speed: 45 interactions/s\n",
      "0.9889 perplexity: 50288.865 batch_acuracy: 0.032 speed: 45 interactions/s\n",
      "Epoch 10 Train Perplexity: 50717.969 Accuracy: 0.089\n",
      "Epoch 10 Validation Perplexity: 215642.580 Accuracy: 0.023\n",
      "Test Perplexity: 297165.892 Accuracy: 0.019\n"
     ]
    }
   ],
   "source": [
    "with tf.Session() as sess:\n",
    "    sess.run(init)\n",
    "    \n",
    "    # check if there is already a saved model\n",
    "    ckpt = tf.train.get_checkpoint_state(ckpt_dir)\n",
    "    if ckpt and ckpt.model_checkpoint_path:\n",
    "        print(ckpt.model_checkpoint_path)\n",
    "        saver.restore(sess, ckpt.model_checkpoint_path) # restore all variables\n",
    "    \n",
    "    # get last global step\n",
    "    start = global_step.eval()\n",
    "    print(\"Start from {}\".format(start))\n",
    "    \n",
    "    # Set logs into folder tensorflow_logs\n",
    "    train_summary_writter = tf.train.SummaryWriter('tensorflow_logs_train', graph=sess.graph)\n",
    "    valid_summary_writter = tf.train.SummaryWriter('tensorflow_logs_valid', graph=sess.graph)\n",
    "    test_summary_writter = tf.train.SummaryWriter('tensorflow_logs_test', graph=sess.graph)\n",
    "    \n",
    "    for epoch in range(start, num_epochs):\n",
    "        train_perplexity, train_accuracy = run_epoch(higgs_train, sess, optimizer, epoch, train_summary_writter, verbose=True)\n",
    "        print(\"Epoch {:d} Train Perplexity: {:.3f} Accuracy: {:.3f}\".format(epoch+1, train_perplexity, train_accuracy))\n",
    "        \n",
    "        valid_perplexity, valid_accuracy = run_epoch(higgs_valid, sess, tf.no_op(), epoch, valid_summary_writter, verbose=False)\n",
    "        print(\"Epoch {:d} Validation Perplexity: {:.3f} Accuracy: {:.3f}\".format(epoch+1, valid_perplexity, valid_accuracy))\n",
    "        \n",
    "        # Save model at each epoch\n",
    "        global_step.assign(epoch).eval()\n",
    "        saver.save(sess, ckpt_dir + '/model.ckpt', global_step=global_step)\n",
    "    \n",
    "    test_perplexity, test_accuracy = run_epoch(higgs_test, sess, tf.no_op(), 0, test_summary_writter, verbose=False)\n",
    "    print(\"Test Perplexity: {:.3f} Accuracy: {:.3f}\".format(test_perplexity, test_accuracy))"
   ]
  }
 ],
 "metadata": {
  "anaconda-cloud": {},
  "kernelspec": {
   "display_name": "Python [Root]",
   "language": "python",
   "name": "Python [Root]"
  },
  "language_info": {
   "codemirror_mode": {
    "name": "ipython",
    "version": 3
   },
   "file_extension": ".py",
   "mimetype": "text/x-python",
   "name": "python",
   "nbconvert_exporter": "python",
   "pygments_lexer": "ipython3",
   "version": "3.5.1"
  }
 },
 "nbformat": 4,
 "nbformat_minor": 0
}
